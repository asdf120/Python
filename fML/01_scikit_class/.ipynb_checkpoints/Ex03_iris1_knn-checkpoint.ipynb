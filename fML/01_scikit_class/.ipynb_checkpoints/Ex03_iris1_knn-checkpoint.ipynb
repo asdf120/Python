{
 "cells": [
  {
   "cell_type": "markdown",
   "metadata": {},
   "source": [
    " # * sklearn 라이브러리에서 간단한 분류 모델\n",
    "\n",
    " ## - KNN \n",
    "\n",
    " \n",
    "* KNN (K-Nearest Neighbors) : 최근접 분류기\n",
    "\t새로운 데이터가 들어오면 훈련데이타 중에서 가장 가까운 데이터 K개를 찾는다.\n",
    "\t이 중에서 빈도가 높은 label(결과)을 새 데이터의 레이블로 예측한다. \n",
    "\t\t- fit() : 학습기계에 데이터를 학습시키는 메소드\n",
    "\t\t- predict() : 데이터를 넣고 예측하는 메소드\n",
    "\t\t- score() : 정확도 측정\n",
    "\n",
    "<img src='./imgs/knn.png' width='500' height='380'>"
   ]
  },
  {
   "cell_type": "markdown",
   "metadata": {},
   "source": [
    "### * 절차\n",
    "\n",
    "(1) 데이타 읽어오기\n",
    "\n",
    "(2) 데이터와 레이블 분리 변수 선언\n",
    "\n",
    "(3) 훈련데이터와 테스트 데이터로 분리하기\n",
    "\n",
    "(4) 모델로 학습하기\n",
    "\n",
    "(5) 예측하기\n",
    "\n",
    "(6) 검증하기\n",
    "\n",
    "(7) 정확도 측정하기"
   ]
  },
  {
   "cell_type": "code",
   "execution_count": null,
   "metadata": {},
   "outputs": [],
   "source": [
    "# (1) 데이타 읽어오기\n",
    "\n",
    "import numpy as np\n",
    "from sklearn import datasets\n",
    "\n",
    "iris = datasets.load_iris()\n",
    "\n"
   ]
  },
  {
   "cell_type": "code",
   "execution_count": null,
   "metadata": {},
   "outputs": [],
   "source": [
    "# (2) 데이터와 레이블 분리 변수 선언 ( 이미 데이터와 레이블이 정해짐 )\n",
    "\n"
   ]
  },
  {
   "cell_type": "code",
   "execution_count": null,
   "metadata": {},
   "outputs": [],
   "source": [
    "# (3) 훈련데이터와 테스트 데이터로 분리하기\n",
    "from sklearn.model_selection import train_test_split\n",
    "\n",
    "\n",
    "\n",
    "\n",
    "'''\n",
    "print(X_train[:10])\n",
    "print(X_test[:10])\n",
    "print(y_train[:10])\n",
    "print(y_test[:10])\n",
    "'''"
   ]
  },
  {
   "cell_type": "code",
   "execution_count": null,
   "metadata": {},
   "outputs": [],
   "source": [
    "# (4) 모델에 데이터를 학습하기\n",
    "# 훈련데이타와 훈련레이블를 인자로 넣어 학습한 결과 knn 객체를 리턴한다\n",
    "# n_neighbors : 이웃갯수 지정\n",
    "\n",
    "from sklearn.neighbors import KNeighborsClassifier\n",
    "\n",
    "\n",
    "\n"
   ]
  },
  {
   "cell_type": "code",
   "execution_count": null,
   "metadata": {},
   "outputs": [],
   "source": [
    "# (5) 새로운 샘플 데이타가 들어왔을 때 label 예측하기\n",
    "# 너무 동떨어진 데이타 입력하면 결과 예측 성능이 낮기에 기존 샘플과 유사하게 만듬\n",
    "newData = np.array([[5.1, 2.9, 1., 0.3]]) \n",
    "\n",
    "\n",
    "\n",
    "\n"
   ]
  },
  {
   "cell_type": "code",
   "execution_count": null,
   "metadata": {
    "scrolled": true
   },
   "outputs": [],
   "source": [
    "# (6) 검증하기\n",
    "# 실제 레이블과 예측값의 정확도 확인\n",
    "\n",
    "\n"
   ]
  },
  {
   "cell_type": "code",
   "execution_count": 2,
   "metadata": {},
   "outputs": [
    {
     "name": "stdout",
     "output_type": "stream",
     "text": [
      "[ True  True  True False]\n",
      "0.75\n"
     ]
    }
   ],
   "source": [
    "# (7) 정확도 측정 \n",
    "\n",
    "'''\n",
    "a = np.array([1,2,3,4])\n",
    "b = np.array([1,2,3,5])\n",
    "print(a==b)\n",
    "print(np.mean(a==b)) # True=1, False=0 의 평균\n",
    "'''"
   ]
  }
 ],
 "metadata": {
  "kernelspec": {
   "display_name": "Python 3",
   "language": "python",
   "name": "python3"
  },
  "language_info": {
   "codemirror_mode": {
    "name": "ipython",
    "version": 3
   },
   "file_extension": ".py",
   "mimetype": "text/x-python",
   "name": "python",
   "nbconvert_exporter": "python",
   "pygments_lexer": "ipython3",
   "version": "3.8.5"
  }
 },
 "nbformat": 4,
 "nbformat_minor": 2
}
