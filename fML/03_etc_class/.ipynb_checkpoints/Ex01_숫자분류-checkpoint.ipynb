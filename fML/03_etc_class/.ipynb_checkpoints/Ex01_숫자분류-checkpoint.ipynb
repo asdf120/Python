{
 "cells": [
  {
   "cell_type": "markdown",
   "metadata": {},
   "source": [
    "##  1. 손글씨 숫자\n",
    "\n",
    "+ 원본 데이타\n",
    "    - UCI Machine Leanring Repository 에 공개\n",
    "    - http://archive.ics.uci.edu/ml/datasets  > optical recognition of handwritten digits\n",
    "    - 8x8 픽셀의 2차원 배열의 데이타가 5620개\n",
    "\n",
    "\n",
    "+ scikit-learn 에 있는 손글씨 숫자 데이타\n",
    "        from sklearn.datasets import load_digits\n",
    "        digits = load_digits()\n",
    "\n",
    "+ 데이타 구조\n",
    "        digit.images - 이미지 데이터 배열\n",
    "        digit.target - 데이터가 어떤 숫자인지 (레이블)\n",
    "    "
   ]
  },
  {
   "cell_type": "code",
   "execution_count": 3,
   "metadata": {},
   "outputs": [
    {
     "name": "stdout",
     "output_type": "stream",
     "text": [
      "[[ 0.  0.  5. 13.  9.  1.  0.  0.]\n",
      " [ 0.  0. 13. 15. 10. 15.  5.  0.]\n",
      " [ 0.  3. 15.  2.  0. 11.  8.  0.]\n",
      " [ 0.  4. 12.  0.  0.  8.  8.  0.]\n",
      " [ 0.  5.  8.  0.  0.  9.  8.  0.]\n",
      " [ 0.  4. 11.  0.  1. 12.  7.  0.]\n",
      " [ 0.  2. 14.  5. 10. 12.  0.  0.]\n",
      " [ 0.  0.  6. 13. 10.  0.  0.  0.]]\n",
      "0\n"
     ]
    }
   ],
   "source": [
    "# 숫자 데이타 로드하여 숫자 로드\n",
    "from sklearn.datasets import load_digits\n",
    "digits = load_digits()\n",
    "\n",
    "print(digits.images[0])\n",
    "print(digits.target[0])\n"
   ]
  },
  {
   "cell_type": "code",
   "execution_count": 14,
   "metadata": {
    "scrolled": true
   },
   "outputs": [
    {
     "data": {
      "text/plain": [
       "<matplotlib.image.AxesImage at 0x15fbbac9c10>"
      ]
     },
     "execution_count": 14,
     "metadata": {},
     "output_type": "execute_result"
    },
    {
     "data": {
      "image/png": "[encoded data removed]",
      "text/plain": [
       "<Figure size 432x288 with 1 Axes>"
      ]
     },
     "metadata": {
      "needs_background": "light"
     },
     "output_type": "display_data"
    }
   ],
   "source": [
    "# 이미지를 회색 스케일로 변환\n",
    "%matplotlib inline\n",
    "import pylab as pl\n",
    "\n",
    "pl.gray()\n",
    "pl.imshow(digits.images[0])\n",
    "\n"
   ]
  },
  {
   "cell_type": "code",
   "execution_count": 15,
   "metadata": {},
   "outputs": [
    {
     "data": {
      "image/png": "[encoded data removed]",
      "text/plain": [
       "<Figure size 432x288 with 10 Axes>"
      ]
     },
     "metadata": {
      "needs_background": "light"
     },
     "output_type": "display_data"
    }
   ],
   "source": [
    "# 10개 출력해보기\n",
    "import matplotlib.pyplot as plt\n",
    "\n",
    "for i in range(10):\n",
    "    plt.subplot(2,5, i+1)\n",
    "    plt.imshow(digits.images[i])\n",
    "\n"
   ]
  },
  {
   "cell_type": "code",
   "execution_count": null,
   "metadata": {},
   "outputs": [],
   "source": [
    "\n",
    "\n"
   ]
  },
  {
   "cell_type": "markdown",
   "metadata": {},
   "source": [
    "## 2. 이미지 머신러닝 - LinearSVC이용\n",
    "\n",
    "    학습 데이타   - 80 %\n",
    "    테스트 데이타 - 20 %"
   ]
  },
  {
   "cell_type": "code",
   "execution_count": 18,
   "metadata": {},
   "outputs": [
    {
     "name": "stdout",
     "output_type": "stream",
     "text": [
      "[ 0.  0.  5. 13.  9.  1.  0.  0.  0.  0. 13. 15. 10. 15.  5.  0.  0.  3.\n",
      " 15.  2.  0. 11.  8.  0.  0.  4. 12.  0.  0.  8.  8.  0.  0.  5.  8.  0.\n",
      "  0.  9.  8.  0.  0.  4. 11.  0.  1. 12.  7.  0.  0.  2. 14.  5. 10. 12.\n",
      "  0.  0.  0.  0.  6. 13. 10.  0.  0.  0.]\n"
     ]
    },
    {
     "name": "stderr",
     "output_type": "stream",
     "text": [
      "C:\\Users\\kosmo_04\\anaconda3\\lib\\site-packages\\sklearn\\svm\\_base.py:976: ConvergenceWarning: Liblinear failed to converge, increase the number of iterations.\n",
      "  warnings.warn(\"Liblinear failed to converge, increase \"\n"
     ]
    }
   ],
   "source": [
    "from sklearn.model_selection import train_test_split\n",
    "from sklearn import datasets, svm, metrics\n",
    "from sklearn.metrics import accuracy_score\n",
    "\n",
    "# 데이터 읽어 들이기 --- (*1)\n",
    "digits = load_digits()\n",
    "x = digits.images\n",
    "y = digits.target\n",
    "\n",
    "\n",
    "# 2차원 배열을 1차원 배열로 변환하기 --- (*2)\n",
    "x = x.reshape((-1,64))\n",
    "# print(x[0])\n",
    "\n",
    "\n",
    "# 데이터를 학습 전용과 테스트 전용으로 분리하기 --- (*3)\n",
    "x_train,x_test,y_train,y_test = train_test_split(x,y,test_size=0.2)\n",
    "\n",
    "\n",
    "# 데이터 학습하기 --- (*4)\n",
    "model = svm.LinearSVC()\n",
    "model.fit(x_train,y_train)\n",
    "\n",
    "\n",
    "# 예측하고 정답률 출력하기 --- (*5)\n",
    "pred = model.predict(x_test)\n",
    "\n"
   ]
  },
  {
   "cell_type": "markdown",
   "metadata": {},
   "source": [
    "[결과] 실행할 때마다 정답률이 달라진다. 일반적으로 0.93~0.96 정도의 정답률이 나온다"
   ]
  },
  {
   "cell_type": "code",
   "execution_count": null,
   "metadata": {},
   "outputs": [],
   "source": [
    "# 예측값과 실제 숫자 비교\n",
    "\n",
    "\n",
    "\n"
   ]
  },
  {
   "cell_type": "markdown",
   "metadata": {},
   "source": [
    "#### [ 참고 ] 파이썬 기본 함수 : https://wikidocs.net/32\n",
    "\n",
    "*zip()와 list()\n",
    "\n",
    "list(zip([1, 2, 3], [4, 5, 6])) ->\n",
    "    [(1, 4), (2, 5), (3, 6)]\n",
    "    \n",
    "list(zip([1, 2, 3], [4, 5, 6], [7, 8, 9])) ->\n",
    "    [(1, 4, 7), (2, 5, 8), (3, 6, 9)]\n",
    "    \n",
    "list(zip(\"abc\", \"def\")) -> \n",
    "    [('a', 'd'), ('b', 'e'), ('c', 'f')]"
   ]
  },
  {
   "cell_type": "markdown",
   "metadata": {},
   "source": [
    "## 3. 작성한 이미지 판단하기\n",
    "\n",
    "    - 그림판에서 정사각형 크기(동일 픽셀)를 만들고 검정색 굵은 선으로 숫자를 그리고 'my.png'로 저장한다\n",
    "      ( 직접 손글씨 이미지 만들기  ( 200px * 200px ) )\n",
    "      \n",
    "    - open cv를 이용하여 이미지를 픽셀데이타로 변경한다\n",
    "    \n",
    "* open cv\n",
    "    - https://opencv.org\n",
    "\n",
    "\n",
    "\n",
    "[ 참고 ] opencv 관련\n",
    "\n",
    "- https://opencv-python.readthedocs.io/en/latest/doc/08.imageProcessing/imageProcessing.html\n",
    "\n",
    "- https://076923.github.io/posts/Python-opencv-10/\n",
    "    "
   ]
  },
  {
   "cell_type": "code",
   "execution_count": null,
   "metadata": {},
   "outputs": [],
   "source": [
    "# opencv 인스톨\n",
    "#!pip install opencv-python"
   ]
  },
  {
   "cell_type": "code",
   "execution_count": null,
   "metadata": {},
   "outputs": [],
   "source": [
    "import cv2\n",
    "\n",
    "def predict_digit(filename):\n",
    "\n",
    "    # 직접 그린 손글씨 이미지 읽어 들이기\n",
    "    my_img = cv2.imread(filename, cv2.IMREAD_COLOR)\n",
    "    \n",
    "    # 이미지 데이터를 학습에 적합하게 변환하기\n",
    "    my_img = cv2.cvtColor(my_img, cv2.COLOR_BGR2GRAY)\n",
    "   \n",
    "    \n",
    "    my_img = cv2.resize(my_img, (8, 8))\n",
    "    my_img = 15 - my_img // 16 # 흑백 반전\n",
    "    # 2차원 배열을 1차원 배열로 변환하기\n",
    "    my_img = my_img.reshape((-1, 64))\n",
    "    # 데이터 예측하기\n",
    "    res = clf.predict(my_img)\n",
    "    return res[0]\n",
    "\n"
   ]
  },
  {
   "cell_type": "code",
   "execution_count": null,
   "metadata": {},
   "outputs": [],
   "source": [
    "# 이미지 파일을 지정해서 실행하기\n",
    "\n"
   ]
  },
  {
   "cell_type": "code",
   "execution_count": null,
   "metadata": {},
   "outputs": [],
   "source": []
  },
  {
   "cell_type": "markdown",
   "metadata": {},
   "source": [
    "## [참고] 나이브베이즈 분류기 중 가우스 분포를 사용해 분류 \n",
    "\n",
    "위에서  LinearSVC 예제와 비교만하자"
   ]
  },
  {
   "cell_type": "code",
   "execution_count": null,
   "metadata": {},
   "outputs": [],
   "source": [
    "from sklearn.datasets import load_digits\n",
    "from sklearn.model_selection import train_test_split\n",
    "from sklearn.naive_bayes import GaussianNB\n",
    "from sklearn.metrics import confusion_matrix\n",
    "import pylab as pl"
   ]
  },
  {
   "cell_type": "code",
   "execution_count": null,
   "metadata": {},
   "outputs": [],
   "source": [
    "# 숫자 데이타 로드\n",
    "digits = load_digits()\n",
    "\n",
    "# 목표변수 \n",
    "y = digits.target\n",
    "\n",
    "# 데이타준비\n",
    "n_sample = len(digits.images)\n",
    "X = digits.images.reshape((n_sample, -1)) \n",
    "    # reshape() : 10*10 행렬을 100 벡터(리스트?)로 변경\n",
    "print(X)    "
   ]
  },
  {
   "cell_type": "code",
   "execution_count": null,
   "metadata": {},
   "outputs": [],
   "source": [
    "# 데이타셋과 훈련셋으로 분할\n",
    "X_train, X_test, y_train, y_test = train_test_split(X, y, random_state=0)\n",
    "print('train : ', len(X_train), ', test : ' , len(X_test))"
   ]
  },
  {
   "cell_type": "code",
   "execution_count": null,
   "metadata": {},
   "outputs": [],
   "source": [
    "# 나이브 베이즈 분류기 선택(Classifier) - 가우스분포를 사용해 확률을 추산\n",
    "gnb = GaussianNB()\n",
    "fit = gnb.fit(X_train, y_train)  # 데이타 적합화\n",
    "\n",
    "# 예측하기\n",
    "predicted = fit.predict(X_test)\n",
    "\n",
    "# Confusion matrix 생성\n",
    "#   : 예측된 결과가 얼마나 혼돈(잘못)되었는지 볼 수 있는 2차원 배열\n",
    "confusion_matrix(y_test, predicted)\n",
    "\n",
    "'''\n",
    " [결과] 2라고 예측했는데 8인 경우가 15번, 8이라고 예측했는데 2인 경우가 5이다.\n",
    "'''"
   ]
  },
  {
   "cell_type": "code",
   "execution_count": null,
   "metadata": {},
   "outputs": [],
   "source": [
    "# 예측값과 실제 숫자 비교\n",
    "images_and_predictions = list(zip(digits.images, fit.predict(X)))\n",
    "for index, (image, prediction) in enumerate(images_and_predictions[:10]):\n",
    "    pl.subplot(5, 3, index+5 )  # 5행 3열 subplot을 만들고 5번째부터 지정(?)\n",
    "    pl.axis('off')  # 축을 나타내기 않음\n",
    "    pl.imshow(image, cmap=plt.cm.gray_r, interpolation='nearest') # 서브플롯으로 채워진 전체 플롯을 보여준다\n",
    "    pl.title('prediction: %i' % prediction )\n",
    "\n",
    "pl.show()"
   ]
  },
  {
   "cell_type": "markdown",
   "metadata": {},
   "source": [
    " [결과]\n",
    "    8이라고 예측했는데 2라는 것이다.\n",
    "    3이라고 예측했는데 아마도 5인 듯\n",
    "\n",
    "\n",
    "` 이 예제는 숫자를 확인하고자 하는 샘플예문이다"
   ]
  },
  {
   "cell_type": "markdown",
   "metadata": {},
   "source": []
  }
 ],
 "metadata": {
  "kernelspec": {
   "display_name": "Python 3",
   "language": "python",
   "name": "python3"
  },
  "language_info": {
   "codemirror_mode": {
    "name": "ipython",
    "version": 3
   },
   "file_extension": ".py",
   "mimetype": "text/x-python",
   "name": "python",
   "nbconvert_exporter": "python",
   "pygments_lexer": "ipython3",
   "version": "3.8.5"
  }
 },
 "nbformat": 4,
 "nbformat_minor": 2
}
