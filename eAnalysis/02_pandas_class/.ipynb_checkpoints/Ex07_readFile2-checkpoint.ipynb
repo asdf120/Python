{
 "cells": [
  {
   "cell_type": "markdown",
   "metadata": {},
   "source": [
    "## 인터넷 상의 데이타 읽기\n",
    "\n",
    "1. Url 상의 csv 읽기 :  pandas.read_csv(url) \n",
    "\n",
    "2. 크롤링하여 읽기\n",
    "\n",
    "    ` requests / Selenium 라이브러리 활용\n",
    "    ` pandas.read_html(url, .. ) : 내부적으로 requests 라이브러리 사용\n",
    "    \n",
    "3. pandas-datareader 라이브러리\n",
    "\n",
    "    ` 내부적으로 requests 라이브러리 사용\n",
    "    ` 버전에 따라 오류 발생\n",
    "    ` Google Finance/Yahoo Finance 등에서 데이타 지원 -> 연결이 안될 수도 있음"
   ]
  },
  {
   "cell_type": "markdown",
   "metadata": {},
   "source": [
    "    [참고] Kosdaq 종목코드 CSV URL : https://goo.gl/3p3dSG\n",
    "\n",
    "        - https://gist.githubusercontent.com/allieus/5ce98166166d06ee9060e6a261e812dc/raw\n",
    "        - 위 주소를 pandas.read_csv(여기)에 붙이기\n",
    "\n",
    "    [참고] Kospi 종목코드 CSV URL : https://goo.gl/aUHznC\n",
    "\n",
    "        - https://gist.githubusercontent.com/allieus/733725662c644ab56c9db9d3cdf77ed1/raw"
   ]
  },
  {
   "cell_type": "markdown",
   "metadata": {},
   "source": [
    "## (1) read_csv()"
   ]
  },
  {
   "cell_type": "code",
   "execution_count": 5,
   "metadata": {},
   "outputs": [
    {
     "data": {
      "text/html": [
       "<div>\n",
       "<style scoped>\n",
       "    .dataframe tbody tr th:only-of-type {\n",
       "        vertical-align: middle;\n",
       "    }\n",
       "\n",
       "    .dataframe tbody tr th {\n",
       "        vertical-align: top;\n",
       "    }\n",
       "\n",
       "    .dataframe thead th {\n",
       "        text-align: right;\n",
       "    }\n",
       "</style>\n",
       "<table border=\"1\" class=\"dataframe\">\n",
       "  <thead>\n",
       "    <tr style=\"text-align: right;\">\n",
       "      <th></th>\n",
       "      <th>종목명</th>\n",
       "      <th>종목코드</th>\n",
       "    </tr>\n",
       "  </thead>\n",
       "  <tbody>\n",
       "    <tr>\n",
       "      <th>0</th>\n",
       "      <td>제일홀딩스</td>\n",
       "      <td>3380</td>\n",
       "    </tr>\n",
       "    <tr>\n",
       "      <th>1</th>\n",
       "      <td>하나금융9호스팩</td>\n",
       "      <td>261200</td>\n",
       "    </tr>\n",
       "    <tr>\n",
       "      <th>2</th>\n",
       "      <td>교보7호스팩</td>\n",
       "      <td>267320</td>\n",
       "    </tr>\n",
       "    <tr>\n",
       "      <th>3</th>\n",
       "      <td>보라티알</td>\n",
       "      <td>250000</td>\n",
       "    </tr>\n",
       "    <tr>\n",
       "      <th>4</th>\n",
       "      <td>한화수성스팩</td>\n",
       "      <td>265920</td>\n",
       "    </tr>\n",
       "  </tbody>\n",
       "</table>\n",
       "</div>"
      ],
      "text/plain": [
       "        종목명    종목코드\n",
       "0     제일홀딩스    3380\n",
       "1  하나금융9호스팩  261200\n",
       "2    교보7호스팩  267320\n",
       "3      보라티알  250000\n",
       "4    한화수성스팩  265920"
      ]
     },
     "execution_count": 5,
     "metadata": {},
     "output_type": "execute_result"
    }
   ],
   "source": [
    "import pandas as pd\n",
    "\n",
    "df = pd.read_csv('https://gist.githubusercontent.com/allieus/5ce98166166d06ee9060e6a261e812dc/raw')\n",
    "df.head()"
   ]
  },
  {
   "cell_type": "markdown",
   "metadata": {},
   "source": [
    " (2) pandas.read_html() * 최근에는 안됨\n",
    "\n",
    "- 웹페이지 크롤링을 쉽게 도와주는 만능 라이브러리 X (아님)\n",
    "\n",
    "- 웹 페이지 상의 HTML table을 한번에 로딩하기 위한 목적임\n",
    "\n",
    "  그러나 데이터 외에 다른 문자열이 있으면 곤란"
   ]
  },
  {
   "cell_type": "code",
   "execution_count": 2,
   "metadata": {},
   "outputs": [],
   "source": []
  },
  {
   "cell_type": "markdown",
   "metadata": {},
   "source": [
    "##  (3) pandas-datareader 라이브러리 \n",
    "\n",
    "        ` 설치 필요\n",
    "        ` 최신버전 업그레이드 필수\n",
    "        ` pip install --upgrade pandas-datareader\n",
    "        ` Anaconda Prompt에서 확인 가능(반드시 관리자 권한으로 실행) : conda install pandas-datareader\n",
    "        ` Jupyter 에서 !pip install --upgrade pandas-datareader\n"
   ]
  },
  {
   "cell_type": "code",
   "execution_count": 6,
   "metadata": {},
   "outputs": [
    {
     "name": "stdout",
     "output_type": "stream",
     "text": [
      "Collecting pandas-datareader\n",
      "  Downloading pandas_datareader-0.9.0-py3-none-any.whl (107 kB)\n",
      "Requirement already satisfied, skipping upgrade: requests>=2.19.0 in c:\\users\\kosmo_04\\anaconda3\\lib\\site-packages (from pandas-datareader) (2.24.0)\n",
      "Requirement already satisfied, skipping upgrade: lxml in c:\\users\\kosmo_04\\anaconda3\\lib\\site-packages (from pandas-datareader) (4.6.1)\n",
      "Requirement already satisfied, skipping upgrade: pandas>=0.23 in c:\\users\\kosmo_04\\anaconda3\\lib\\site-packages (from pandas-datareader) (1.1.3)\n",
      "Requirement already satisfied, skipping upgrade: urllib3!=1.25.0,!=1.25.1,<1.26,>=1.21.1 in c:\\users\\kosmo_04\\anaconda3\\lib\\site-packages (from requests>=2.19.0->pandas-datareader) (1.25.11)\n",
      "Requirement already satisfied, skipping upgrade: chardet<4,>=3.0.2 in c:\\users\\kosmo_04\\anaconda3\\lib\\site-packages (from requests>=2.19.0->pandas-datareader) (3.0.4)\n",
      "Requirement already satisfied, skipping upgrade: certifi>=2017.4.17 in c:\\users\\kosmo_04\\anaconda3\\lib\\site-packages (from requests>=2.19.0->pandas-datareader) (2020.6.20)\n",
      "Requirement already satisfied, skipping upgrade: idna<3,>=2.5 in c:\\users\\kosmo_04\\anaconda3\\lib\\site-packages (from requests>=2.19.0->pandas-datareader) (2.10)\n",
      "Requirement already satisfied, skipping upgrade: pytz>=2017.2 in c:\\users\\kosmo_04\\anaconda3\\lib\\site-packages (from pandas>=0.23->pandas-datareader) (2020.1)\n",
      "Requirement already satisfied, skipping upgrade: python-dateutil>=2.7.3 in c:\\users\\kosmo_04\\anaconda3\\lib\\site-packages (from pandas>=0.23->pandas-datareader) (2.8.1)\n",
      "Requirement already satisfied, skipping upgrade: numpy>=1.15.4 in c:\\users\\kosmo_04\\anaconda3\\lib\\site-packages (from pandas>=0.23->pandas-datareader) (1.19.2)\n",
      "Requirement already satisfied, skipping upgrade: six>=1.5 in c:\\users\\kosmo_04\\anaconda3\\lib\\site-packages (from python-dateutil>=2.7.3->pandas>=0.23->pandas-datareader) (1.15.0)\n",
      "Installing collected packages: pandas-datareader\n",
      "Successfully installed pandas-datareader-0.9.0\n"
     ]
    }
   ],
   "source": [
    "# !pip install --upgrade pandas-datareader"
   ]
  },
  {
   "cell_type": "code",
   "execution_count": null,
   "metadata": {},
   "outputs": [],
   "source": []
  }
 ],
 "metadata": {
  "kernelspec": {
   "display_name": "Python 3",
   "language": "python",
   "name": "python3"
  },
  "language_info": {
   "codemirror_mode": {
    "name": "ipython",
    "version": 3
   },
   "file_extension": ".py",
   "mimetype": "text/x-python",
   "name": "python",
   "nbconvert_exporter": "python",
   "pygments_lexer": "ipython3",
   "version": "3.8.5"
  }
 },
 "nbformat": 4,
 "nbformat_minor": 2
}
