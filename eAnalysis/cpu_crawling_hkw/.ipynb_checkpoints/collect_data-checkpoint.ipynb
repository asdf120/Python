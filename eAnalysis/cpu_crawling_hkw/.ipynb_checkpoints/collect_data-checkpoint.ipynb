{
 "cells": [
  {
   "cell_type": "code",
   "execution_count": 1,
   "metadata": {},
   "outputs": [
    {
     "name": "stdout",
     "output_type": "stream",
     "text": [
      "Requirement already satisfied: selenium in c:\\users\\kosmo_17\\anaconda3\\lib\\site-packages (3.141.0)\n",
      "Requirement already satisfied: urllib3 in c:\\users\\kosmo_17\\anaconda3\\lib\\site-packages (from selenium) (1.25.11)\n",
      "Note: you may need to restart the kernel to use updated packages.\n"
     ]
    }
   ],
   "source": [
    "pip install selenium"
   ]
  },
  {
   "cell_type": "code",
   "execution_count": 5,
   "metadata": {},
   "outputs": [],
   "source": [
    "from selenium import webdriver\n",
    "\n",
    "driver = webdriver.Chrome('./webdriver/chromedriver')\n",
    "\n",
    "url = \"http://www.compuzone.co.kr/search/search.htm?Seargbl=1&hidden_Txt=&IsEventSearch=&SearchProductKey=cpu#searchArea\"\n",
    "driver.get(url)"
   ]
  },
  {
   "cell_type": "markdown",
   "metadata": {},
   "source": [
    "    웹페이지 상품정보 가져오기 \n",
    "    "
   ]
  },
  {
   "cell_type": "code",
   "execution_count": 6,
   "metadata": {},
   "outputs": [
    {
     "ename": "WebDriverException",
     "evalue": "Message: chrome not reachable\n  (Session info: chrome=88.0.4324.104)\n",
     "output_type": "error",
     "traceback": [
      "\u001b[1;31m---------------------------------------------------------------------------\u001b[0m",
      "\u001b[1;31mWebDriverException\u001b[0m                        Traceback (most recent call last)",
      "\u001b[1;32m<ipython-input-6-fdc55d1301e2>\u001b[0m in \u001b[0;36m<module>\u001b[1;34m\u001b[0m\n\u001b[0;32m      1\u001b[0m \u001b[1;32mfrom\u001b[0m \u001b[0mbs4\u001b[0m \u001b[1;32mimport\u001b[0m \u001b[0mBeautifulSoup\u001b[0m\u001b[1;33m\u001b[0m\u001b[1;33m\u001b[0m\u001b[0m\n\u001b[0;32m      2\u001b[0m \u001b[1;33m\u001b[0m\u001b[0m\n\u001b[1;32m----> 3\u001b[1;33m \u001b[0mhtml\u001b[0m \u001b[1;33m=\u001b[0m \u001b[0mdriver\u001b[0m\u001b[1;33m.\u001b[0m\u001b[0mpage_source\u001b[0m\u001b[1;33m\u001b[0m\u001b[1;33m\u001b[0m\u001b[0m\n\u001b[0m\u001b[0;32m      4\u001b[0m \u001b[0msoup\u001b[0m \u001b[1;33m=\u001b[0m \u001b[0mBeautifulSoup\u001b[0m\u001b[1;33m(\u001b[0m\u001b[0mhtml\u001b[0m\u001b[1;33m,\u001b[0m \u001b[1;34m'html.parser'\u001b[0m\u001b[1;33m)\u001b[0m\u001b[1;33m\u001b[0m\u001b[1;33m\u001b[0m\u001b[0m\n",
      "\u001b[1;32m~\\anaconda3\\lib\\site-packages\\selenium\\webdriver\\remote\\webdriver.py\u001b[0m in \u001b[0;36mpage_source\u001b[1;34m(self)\u001b[0m\n\u001b[0;32m    677\u001b[0m             \u001b[0mdriver\u001b[0m\u001b[1;33m.\u001b[0m\u001b[0mpage_source\u001b[0m\u001b[1;33m\u001b[0m\u001b[1;33m\u001b[0m\u001b[0m\n\u001b[0;32m    678\u001b[0m         \"\"\"\n\u001b[1;32m--> 679\u001b[1;33m         \u001b[1;32mreturn\u001b[0m \u001b[0mself\u001b[0m\u001b[1;33m.\u001b[0m\u001b[0mexecute\u001b[0m\u001b[1;33m(\u001b[0m\u001b[0mCommand\u001b[0m\u001b[1;33m.\u001b[0m\u001b[0mGET_PAGE_SOURCE\u001b[0m\u001b[1;33m)\u001b[0m\u001b[1;33m[\u001b[0m\u001b[1;34m'value'\u001b[0m\u001b[1;33m]\u001b[0m\u001b[1;33m\u001b[0m\u001b[1;33m\u001b[0m\u001b[0m\n\u001b[0m\u001b[0;32m    680\u001b[0m \u001b[1;33m\u001b[0m\u001b[0m\n\u001b[0;32m    681\u001b[0m     \u001b[1;32mdef\u001b[0m \u001b[0mclose\u001b[0m\u001b[1;33m(\u001b[0m\u001b[0mself\u001b[0m\u001b[1;33m)\u001b[0m\u001b[1;33m:\u001b[0m\u001b[1;33m\u001b[0m\u001b[1;33m\u001b[0m\u001b[0m\n",
      "\u001b[1;32m~\\anaconda3\\lib\\site-packages\\selenium\\webdriver\\remote\\webdriver.py\u001b[0m in \u001b[0;36mexecute\u001b[1;34m(self, driver_command, params)\u001b[0m\n\u001b[0;32m    319\u001b[0m         \u001b[0mresponse\u001b[0m \u001b[1;33m=\u001b[0m \u001b[0mself\u001b[0m\u001b[1;33m.\u001b[0m\u001b[0mcommand_executor\u001b[0m\u001b[1;33m.\u001b[0m\u001b[0mexecute\u001b[0m\u001b[1;33m(\u001b[0m\u001b[0mdriver_command\u001b[0m\u001b[1;33m,\u001b[0m \u001b[0mparams\u001b[0m\u001b[1;33m)\u001b[0m\u001b[1;33m\u001b[0m\u001b[1;33m\u001b[0m\u001b[0m\n\u001b[0;32m    320\u001b[0m         \u001b[1;32mif\u001b[0m \u001b[0mresponse\u001b[0m\u001b[1;33m:\u001b[0m\u001b[1;33m\u001b[0m\u001b[1;33m\u001b[0m\u001b[0m\n\u001b[1;32m--> 321\u001b[1;33m             \u001b[0mself\u001b[0m\u001b[1;33m.\u001b[0m\u001b[0merror_handler\u001b[0m\u001b[1;33m.\u001b[0m\u001b[0mcheck_response\u001b[0m\u001b[1;33m(\u001b[0m\u001b[0mresponse\u001b[0m\u001b[1;33m)\u001b[0m\u001b[1;33m\u001b[0m\u001b[1;33m\u001b[0m\u001b[0m\n\u001b[0m\u001b[0;32m    322\u001b[0m             response['value'] = self._unwrap_value(\n\u001b[0;32m    323\u001b[0m                 response.get('value', None))\n",
      "\u001b[1;32m~\\anaconda3\\lib\\site-packages\\selenium\\webdriver\\remote\\errorhandler.py\u001b[0m in \u001b[0;36mcheck_response\u001b[1;34m(self, response)\u001b[0m\n\u001b[0;32m    240\u001b[0m                 \u001b[0malert_text\u001b[0m \u001b[1;33m=\u001b[0m \u001b[0mvalue\u001b[0m\u001b[1;33m[\u001b[0m\u001b[1;34m'alert'\u001b[0m\u001b[1;33m]\u001b[0m\u001b[1;33m.\u001b[0m\u001b[0mget\u001b[0m\u001b[1;33m(\u001b[0m\u001b[1;34m'text'\u001b[0m\u001b[1;33m)\u001b[0m\u001b[1;33m\u001b[0m\u001b[1;33m\u001b[0m\u001b[0m\n\u001b[0;32m    241\u001b[0m             \u001b[1;32mraise\u001b[0m \u001b[0mexception_class\u001b[0m\u001b[1;33m(\u001b[0m\u001b[0mmessage\u001b[0m\u001b[1;33m,\u001b[0m \u001b[0mscreen\u001b[0m\u001b[1;33m,\u001b[0m \u001b[0mstacktrace\u001b[0m\u001b[1;33m,\u001b[0m \u001b[0malert_text\u001b[0m\u001b[1;33m)\u001b[0m\u001b[1;33m\u001b[0m\u001b[1;33m\u001b[0m\u001b[0m\n\u001b[1;32m--> 242\u001b[1;33m         \u001b[1;32mraise\u001b[0m \u001b[0mexception_class\u001b[0m\u001b[1;33m(\u001b[0m\u001b[0mmessage\u001b[0m\u001b[1;33m,\u001b[0m \u001b[0mscreen\u001b[0m\u001b[1;33m,\u001b[0m \u001b[0mstacktrace\u001b[0m\u001b[1;33m)\u001b[0m\u001b[1;33m\u001b[0m\u001b[1;33m\u001b[0m\u001b[0m\n\u001b[0m\u001b[0;32m    243\u001b[0m \u001b[1;33m\u001b[0m\u001b[0m\n\u001b[0;32m    244\u001b[0m     \u001b[1;32mdef\u001b[0m \u001b[0m_value_or_default\u001b[0m\u001b[1;33m(\u001b[0m\u001b[0mself\u001b[0m\u001b[1;33m,\u001b[0m \u001b[0mobj\u001b[0m\u001b[1;33m,\u001b[0m \u001b[0mkey\u001b[0m\u001b[1;33m,\u001b[0m \u001b[0mdefault\u001b[0m\u001b[1;33m)\u001b[0m\u001b[1;33m:\u001b[0m\u001b[1;33m\u001b[0m\u001b[1;33m\u001b[0m\u001b[0m\n",
      "\u001b[1;31mWebDriverException\u001b[0m: Message: chrome not reachable\n  (Session info: chrome=88.0.4324.104)\n"
     ]
    }
   ],
   "source": [
    "from bs4 import BeautifulSoup \n",
    "\n",
    "html = driver.page_source \n",
    "soup = BeautifulSoup(html, 'html.parser')"
   ]
  },
  {
   "cell_type": "code",
   "execution_count": 4,
   "metadata": {},
   "outputs": [],
   "source": [
    "cpu_items = soup.select('.product_list >li')\n",
    "#len(cpu_items)"
   ]
  },
  {
   "cell_type": "code",
   "execution_count": 5,
   "metadata": {},
   "outputs": [],
   "source": [
    "cpu_title = soup.select('.prd_info_Box .prd_info_name')\n",
    "for title in cpu_title:\n",
    "    print(title.text)"
   ]
  },
  {
   "cell_type": "code",
   "execution_count": 6,
   "metadata": {},
   "outputs": [],
   "source": [
    "cpu_spec = soup.select('.prd_subTxt a')\n",
    "for spec in cpu_spec:\n",
    "    print(spec.text.strip())"
   ]
  },
  {
   "cell_type": "code",
   "execution_count": 7,
   "metadata": {},
   "outputs": [],
   "source": [
    "cpu_price = soup.select('span.won > strong')\n",
    "for price in cpu_price:\n",
    "    print(price.text.strip())"
   ]
  },
  {
   "cell_type": "code",
   "execution_count": 8,
   "metadata": {},
   "outputs": [
    {
     "name": "stdout",
     "output_type": "stream",
     "text": [
      "[]\n"
     ]
    }
   ],
   "source": [
    "cpu_data = [] \n",
    "for cpu_item in cpu_items:\n",
    "    try: \n",
    "        title = cpu_item.select('.prd_info_Box .prd_info_name')[0].text.strip()\n",
    "    except:\n",
    "        title = '상품이름없음'\n",
    "    try:\n",
    "        price = cpu_item.select('span.won > strong')[0].text.strip()\n",
    "    except:\n",
    "        price = '가격정보없음'\n",
    "    try:\n",
    "        spec = cpu_item.select('.prd_subTxt a')[0].text.strip()\n",
    "    except:\n",
    "        spec = '상세정보없음'\n",
    "    cpu_data.append([title, price, spec])\n",
    "    \n",
    "print(cpu_data)"
   ]
  },
  {
   "cell_type": "code",
   "execution_count": 9,
   "metadata": {},
   "outputs": [],
   "source": [
    "def get_cpu_list(cpu_items):\n",
    "    cpu_list=[]\n",
    "    for cpu_item in cpu_items:\n",
    "        try:\n",
    "            title = cpu_item.select('.prd_info_Box .prd_info_name')[0].text.strip()\n",
    "        except:\n",
    "            title = \"\"\n",
    "        try:\n",
    "            spec = cpu_item.select('.prd_subTxt a')[0].text.strip()\n",
    "        except:\n",
    "            spec = \"\"\n",
    "        try:\n",
    "            price = cpu_item.select('.number')[0].text.strip()\n",
    "        except:\n",
    "            price =0\n",
    "        cpu_list.append([title, spec, price])\n",
    "    print(len(cpu_list))\n",
    "    print(cpu_list)\n",
    "    return cpu_list\n"
   ]
  },
  {
   "cell_type": "code",
   "execution_count": 10,
   "metadata": {},
   "outputs": [
    {
     "name": "stdout",
     "output_type": "stream",
     "text": [
      "[INTEL] 인텔 코어6세대 i3-6100 벌크 쿨러미포함 (스카이레이크/3.7GHz/3MB/병행수입) 100,750 Core i3-6100(3.7GHz) / 듀얼코어 / 스카이레이크(Skylake) / 14nm / 3MB버퍼 / 32(64)비트지원 / LGA1151 / 벌크 / 쿨러미포함\n",
      "[INTEL] 인텔 코어6세대 i7-6700 벌크 쿨러미포함 (스카이레이크/3.4GHz/8MB/병행수입) 326,560 Core i7-6700(3.4GHz) / 쿼드코어 / 스카이레이크(Skylake) / 14nm / 8MB버퍼 / 32(64)비트지원 / LGA1151 / 벌크 / 쿨러미포함\n",
      "[INTEL] 인텔 코어8세대 i3-8100 벌크 쿨러미포함 (커피레이크/3.6GHz/6MB/병행수입) 134,000 Core i3-8100(3.6GHz) / 쿼드코어 / 커피레이크(CoffeeLake) / 14nm / 6MB버퍼 / LGA1151-V2 / 병행수입 벌크 / 쿨러미포함 / 쿼드(4)코어\n",
      "[INTEL] 인텔 코어8세대 i7-8700 벌크 쿨러미포함 (커피레이크/3.2GHz/12MB/병행수입) 332,590 Core i7-8700(3.2GHz) / 헥사코어 / 커피레이크(CoffeeLake) / 14nm / 12MB버퍼 / LGA1151-V2 / 병행수입 벌크 / 쿨러미포함\n",
      "[INTEL] 인텔 코어8세대 i3-8100 벌크 쿨러포함 (커피레이크/3.6GHz/6MB/병행수입) 135,950 Core i3-8100(3.6GHz) / 쿼드코어 / 커피레이크(CoffeeLake) / 14nm / 6MB버퍼 / LGA1151-V2 / 병행수입 벌크 / 쿨러포함\n",
      "[INTEL] 인텔 코어7세대 i3-7100 벌크 쿨러미포함 (카비레이크/3.9GHz/3MB/병행수입) 100,450 Core i3-7100(3.9GHz) / 듀얼코어 / 카비레이크(KabyLake) / 14nm / 3MB버퍼 / LGA1151 / 벌크 / 쿨러미포함\n",
      "[INTEL] 코어10세대 i9-10920X 정품박스 (캐스케이드레이크/3.5GHz/19.25MB/쿨러미포함) 832,000 인텔(소켓2066) / 14nm / 12코어 / 쓰레드 24개 / 3.5GHz / 19.25MB / 165W / DDR4 / 2933MHz / PCIe 3.0 / 하이퍼스레딩 / 옵테인\n",
      "[INTEL] 인텔 코어6세대 펜티엄 G4400 벌크 쿨러미포함 (스카이레이크/3.3GHz/3MB/병행수입) 61,500 펜티엄 G4400(3.3GHz) / 듀얼코어 / 스카이레이크(Skylake) / 14nm / 3MB버퍼 / 32(64)비트지원 / LGA1151 / 벌크 / 쿨러미포함\n",
      "[INTEL] 코어10세대 i9-10900X 정품박스 (캐스케이드레이크/3.7GHz/19.25MB/쿨러미포함) 729,700 인텔(소켓2066) / 10코어 / 쓰레드 20개 / 3.7GHz / 19.25MB / 165W / DDR4 / 2933MHz / PCIe 3.0 / 하이퍼스레딩 / 옵테인 / 10세대 캐스케이드레이크 / 코어 i9 / 데카(10) 코어 / 박스 (쿨러미포함) / 14nm\n",
      "[INTEL] 인텔 코어6세대 펜티엄 G4400 벌크 쿨러포함 (스카이레이크/3.3GHz/3MB/병행수입) 64,500 펜티엄 G4400(3.3GHz) / 듀얼코어 / 스카이레이크(Skylake) / 14nm / 3MB버퍼 / 32(64)비트지원 / LGA1151 / 벌크 / 쿨러포함\n",
      "[INTEL] 제온 스케일러블 골드 6128 정품 (스카이레이크/3.4GHz/19.25MB/쿨러미포함) 2,573,000 Scalable Gold 6128(3.4GHz) / 헥사코어 / 스카이레이크(Skylake) / 14nm / 19.25MB 버퍼 / FCLGA3647 / 박스 / 쿨러미포함\n",
      "[INTEL] 제온 스케일러블 골드 6130 정품(스카이레이크/2.1GHz/22MB/쿨러미포함) 2,847,000 Scalable Gold 6130(2.1GHz) / 헥사데카코어 / 스카이레이크(Skylake) / 14nm / 22MB 버퍼 / FCLGA3647 / 박스 / 쿨러미포함\n",
      "[INTEL] 제온 스케일러블 골드 6134 정품(스카이레이크/3.2GHz/24.75MB/쿨러미포함) 3,366,000 Scalable Gold 6134(3.2GHz) / 옥타코어 / 스카이레이크(Skylake) / 14nm / 24.75MB 버퍼 / FCLGA3647 / 박스 / 쿨러미포함\n",
      "[INTEL] 제온 스케일러블 골드 6138 정품(스카이레이크/2.0GHz/27.5MB/쿨러미포함) 3,968,000 Scalable Gold 6138(2.0GHz) / 아이코사코어 / 스카이레이크(Skylake) / 14nm / 27.5MB 버퍼 / FCLGA3647 / 박스 / 쿨러미포함 / 2.0~2.5GHz\n",
      "[INTEL] 제온 스케일러블 골드 6140 정품(스카이레이크/2.3GHz/24.75MB/쿨러미포함) 3,702,000 Scalable Gold 6140(2.3GHz) / 옥타데카코어 / 스카이레이크(Skylake) / 14nm / 24.75MB 버퍼 / FCLGA3647 / 박스 / 쿨러미포함\n",
      "[INTEL] 제온 스케일러블 골드 6142 정품(스카이레이크/2.6GHz/22MB/쿨러미포함) 4,472,000 Scalable Gold 6142(2.6GHz) / 헥사데카코어 / 스카이레이크(Skylake) / 14nm / 22MB 버퍼 / FCLGA3647 / 박스 / 쿨러미포함\n",
      "[INTEL] 제온 스케일러블 골드 6152 정품(스카이레이크/2.1GHz/30.25MB/쿨러미포함) 5,268,690 Scalable Gold 6152(3.7GHz) / 도코사코어 / 스카이레이크(Skylake) / 14nm / 30.25MB 버퍼 / FCLGA3647 / 박스 / 쿨러미포함\n",
      "[INTEL] 제온 스케일러블 실버 4108 정품(스카이레이크/1.8GHz/11MB/쿨러미포함) 636,500 Scalable Server 4108(1.8GHz) / 옥타코어 / 스카이레이크(Skylake) / 14nm / 11MB 버퍼 / FCLGA3647 / 박스 / 쿨러미포함\n",
      "[INTEL] 제온 스케일러블 실버 4110 정품(스카이레이크/2.1GHz/11MB/쿨러미포함) 770,000 Scalable Server 4110(2.1GHz) / 옥타코어 / 스카이레이크(Skylake) / 14nm / 11MB 버퍼 / FCLGA3647 / 박스 / 쿨러미포함\n",
      "[AMD] 라이젠 3 피카소 3200G (쿼드코어/3.6GHz/쿨러포함/대리점정품/멀티팩) 129,000 AMD(소켓AM4) / 2세대 (Zen+) / 12nm / 쿼드(4)코어 / 4쓰레드 / 기본 클럭: 3.6GHz / 최대 클럭: 4GHz / L3 캐시: 4MB / TDP: 65W / PCIe3.0 / 메모리 규격: DDR4 / 2933MHz / 내장그래픽: 탑재 / AMD 라데온 Vega 8 / 기술 지원: SenseMI / 쿨러: Wraith Stealth 포함\n",
      "[INTEL] 인텔 코어6세대 i3-6100 벌크 쿨러미포함 (스카이레이크/3.7GHz/3MB/병행수입) 100,750 Core i3-6100(3.7GHz) / 듀얼코어 / 스카이레이크(Skylake) / 14nm / 3MB버퍼 / 32(64)비트지원 / LGA1151 / 벌크 / 쿨러미포함\n",
      "[INTEL] 인텔 코어6세대 i7-6700 벌크 쿨러미포함 (스카이레이크/3.4GHz/8MB/병행수입) 326,560 Core i7-6700(3.4GHz) / 쿼드코어 / 스카이레이크(Skylake) / 14nm / 8MB버퍼 / 32(64)비트지원 / LGA1151 / 벌크 / 쿨러미포함\n",
      "[INTEL] 인텔 코어8세대 i3-8100 벌크 쿨러미포함 (커피레이크/3.6GHz/6MB/병행수입) 134,000 Core i3-8100(3.6GHz) / 쿼드코어 / 커피레이크(CoffeeLake) / 14nm / 6MB버퍼 / LGA1151-V2 / 병행수입 벌크 / 쿨러미포함 / 쿼드(4)코어\n",
      "[INTEL] 인텔 코어8세대 i7-8700 벌크 쿨러미포함 (커피레이크/3.2GHz/12MB/병행수입) 332,590 Core i7-8700(3.2GHz) / 헥사코어 / 커피레이크(CoffeeLake) / 14nm / 12MB버퍼 / LGA1151-V2 / 병행수입 벌크 / 쿨러미포함\n",
      "[INTEL] 인텔 코어8세대 i3-8100 벌크 쿨러포함 (커피레이크/3.6GHz/6MB/병행수입) 135,950 Core i3-8100(3.6GHz) / 쿼드코어 / 커피레이크(CoffeeLake) / 14nm / 6MB버퍼 / LGA1151-V2 / 병행수입 벌크 / 쿨러포함\n",
      "[INTEL] 인텔 코어7세대 i3-7100 벌크 쿨러미포함 (카비레이크/3.9GHz/3MB/병행수입) 100,450 Core i3-7100(3.9GHz) / 듀얼코어 / 카비레이크(KabyLake) / 14nm / 3MB버퍼 / LGA1151 / 벌크 / 쿨러미포함\n",
      "[INTEL] 코어10세대 i9-10920X 정품박스 (캐스케이드레이크/3.5GHz/19.25MB/쿨러미포함) 832,000 인텔(소켓2066) / 14nm / 12코어 / 쓰레드 24개 / 3.5GHz / 19.25MB / 165W / DDR4 / 2933MHz / PCIe 3.0 / 하이퍼스레딩 / 옵테인\n",
      "[INTEL] 인텔 코어6세대 펜티엄 G4400 벌크 쿨러미포함 (스카이레이크/3.3GHz/3MB/병행수입) 61,500 펜티엄 G4400(3.3GHz) / 듀얼코어 / 스카이레이크(Skylake) / 14nm / 3MB버퍼 / 32(64)비트지원 / LGA1151 / 벌크 / 쿨러미포함\n",
      "[INTEL] 코어10세대 i9-10900X 정품박스 (캐스케이드레이크/3.7GHz/19.25MB/쿨러미포함) 729,700 인텔(소켓2066) / 10코어 / 쓰레드 20개 / 3.7GHz / 19.25MB / 165W / DDR4 / 2933MHz / PCIe 3.0 / 하이퍼스레딩 / 옵테인 / 10세대 캐스케이드레이크 / 코어 i9 / 데카(10) 코어 / 박스 (쿨러미포함) / 14nm\n",
      "[INTEL] 인텔 코어6세대 펜티엄 G4400 벌크 쿨러포함 (스카이레이크/3.3GHz/3MB/병행수입) 64,500 펜티엄 G4400(3.3GHz) / 듀얼코어 / 스카이레이크(Skylake) / 14nm / 3MB버퍼 / 32(64)비트지원 / LGA1151 / 벌크 / 쿨러포함\n",
      "[INTEL] 제온 스케일러블 골드 6128 정품 (스카이레이크/3.4GHz/19.25MB/쿨러미포함) 2,573,000 Scalable Gold 6128(3.4GHz) / 헥사코어 / 스카이레이크(Skylake) / 14nm / 19.25MB 버퍼 / FCLGA3647 / 박스 / 쿨러미포함\n",
      "[INTEL] 제온 스케일러블 골드 6130 정품(스카이레이크/2.1GHz/22MB/쿨러미포함) 2,847,000 Scalable Gold 6130(2.1GHz) / 헥사데카코어 / 스카이레이크(Skylake) / 14nm / 22MB 버퍼 / FCLGA3647 / 박스 / 쿨러미포함\n",
      "[INTEL] 제온 스케일러블 골드 6134 정품(스카이레이크/3.2GHz/24.75MB/쿨러미포함) 3,366,000 Scalable Gold 6134(3.2GHz) / 옥타코어 / 스카이레이크(Skylake) / 14nm / 24.75MB 버퍼 / FCLGA3647 / 박스 / 쿨러미포함\n",
      "[INTEL] 제온 스케일러블 골드 6138 정품(스카이레이크/2.0GHz/27.5MB/쿨러미포함) 3,968,000 Scalable Gold 6138(2.0GHz) / 아이코사코어 / 스카이레이크(Skylake) / 14nm / 27.5MB 버퍼 / FCLGA3647 / 박스 / 쿨러미포함 / 2.0~2.5GHz\n",
      "[INTEL] 제온 스케일러블 골드 6140 정품(스카이레이크/2.3GHz/24.75MB/쿨러미포함) 3,702,000 Scalable Gold 6140(2.3GHz) / 옥타데카코어 / 스카이레이크(Skylake) / 14nm / 24.75MB 버퍼 / FCLGA3647 / 박스 / 쿨러미포함\n",
      "[INTEL] 제온 스케일러블 골드 6142 정품(스카이레이크/2.6GHz/22MB/쿨러미포함) 4,472,000 Scalable Gold 6142(2.6GHz) / 헥사데카코어 / 스카이레이크(Skylake) / 14nm / 22MB 버퍼 / FCLGA3647 / 박스 / 쿨러미포함\n",
      "[INTEL] 제온 스케일러블 골드 6152 정품(스카이레이크/2.1GHz/30.25MB/쿨러미포함) 5,268,690 Scalable Gold 6152(3.7GHz) / 도코사코어 / 스카이레이크(Skylake) / 14nm / 30.25MB 버퍼 / FCLGA3647 / 박스 / 쿨러미포함\n",
      "[INTEL] 제온 스케일러블 실버 4108 정품(스카이레이크/1.8GHz/11MB/쿨러미포함) 636,500 Scalable Server 4108(1.8GHz) / 옥타코어 / 스카이레이크(Skylake) / 14nm / 11MB 버퍼 / FCLGA3647 / 박스 / 쿨러미포함\n",
      "[INTEL] 제온 스케일러블 실버 4110 정품(스카이레이크/2.1GHz/11MB/쿨러미포함) 770,000 Scalable Server 4110(2.1GHz) / 옥타코어 / 스카이레이크(Skylake) / 14nm / 11MB 버퍼 / FCLGA3647 / 박스 / 쿨러미포함\n",
      "[AMD] 라이젠 3 피카소 3200G (쿼드코어/3.6GHz/쿨러포함/대리점정품/멀티팩) 129,000 AMD(소켓AM4) / 2세대 (Zen+) / 12nm / 쿼드(4)코어 / 4쓰레드 / 기본 클럭: 3.6GHz / 최대 클럭: 4GHz / L3 캐시: 4MB / TDP: 65W / PCIe3.0 / 메모리 규격: DDR4 / 2933MHz / 내장그래픽: 탑재 / AMD 라데온 Vega 8 / 기술 지원: SenseMI / 쿨러: Wraith Stealth 포함\n",
      "[INTEL] 코어10세대 i5-10400 정품박스 (코멧레이크 /2.90GHz/12MB/쿨러 포함) 205,000 인텔(소켓1200) / 14nm / 헥사(6)코어 / 12쓰레드 / 기본 클럭: 2.9GHz / L3 캐시: 12MB / 설계전력: 65W / PCIe3.0 / 메모리 규격: DDR4 / 메모리 버스: 2666MHz / 인텔 UHD 630 / 기술 지원: 하이퍼스레딩, 옵테인\n",
      "[INTEL] 코어10세대 i5-10400F 정품박스 (코멧레이크 /2.90GHz/12MB/쿨러 포함) 163,000 인텔(소켓1200) / 14nm / 6코어 / 쓰레드 12개 / 기본 클럭: 2.9GHz / 12MB / 64비트 / 설계전력: 65W / 메모리 규격: DDR4 / 메모리 버스: 2666MHz / PCIe 3.0 / 기술 지원: 하이퍼스레딩 , 옵테인 / LGA 1200\n",
      "[INTEL] 코어10세대 i3-10100 벌크 쿨러포함 (코멧레이크/3.60GHz/6MB/병행수입) 127,700 인텔(소켓1200) / 14nm / 4코어 / 쓰레드 8개 / 기본 클럭: 3.6GHz / 6MB / 64비트 / 설계전력: 65W / 메모리 규격: DDR4 / 메모리 버스: 2666MHz / 인텔 UHD 630 / PCIe 3.0\n",
      "[AMD] 라이젠 5 프로 4650G [르누아르] (헥사코어/3.7GHz/쿨러포함/대리점정품/멀티팩) 239,500 내장그래픽 유\n",
      "[AMD] 라이젠3 프로 4350G [르누아르] (쿼드코어/3.8GHz/쿨러포함/대리점정품/멀티팩) 166,000 AMD(소켓AM4) / 3세대 (Zen 2) / 7nm / 쿼드(4)코어 / 8쓰레드 / 기본 클럭: 3.8GHz / 최대 클럭: 4.0GHz / L3 캐시: 4MB / TDP: 65W / PCIe3.0 / 메모리 규격: DDR4 / 3200MHz / 내장그래픽: 탑재 / AMD 라데온 그래픽 6 / 쿨러: Wraith Stealth 포함 / Memory Guard, GuardMI 지원 / 500시리즈 칩셋만 지원\n",
      "[AMD] 라이젠 5 피카소 3400G 멀티팩 (쿼드코어/3.7GHz/쿨러포함/대리점정품) 160,000 AMD(소켓AM4) / 2세대 (Zen+) / 12nm / 쿼드(4)코어 / 쓰레드 8개 / 3.7GHz / 2MB / 4MB / 65W / PCIe 3.0 x8 / DDR4 / 2933MHz / AMD 라데온 Vega 11 / 1400MHz / Wraith Spire 쿨러 포함\n",
      "[INTEL] 펜티엄 골드 G6400 정품박스 (코멧레이크/4.0GHz/4.0MB/쿨러포함) 69,000 인텔(소켓1200) / 14nm / 2코어 / 쓰레드 4개 / 기본 클럭: 4.0GHz / 4MB / 64비트 / 설계전력: 58W / 메모리 규격: DDR4 / 메모리 버스: 2666MHz / 인텔 UHD 610 / PCIe 3.0 / 기술 지원: 옵테인\n",
      "[INTEL] 코어9세대 펜티엄 골드 G5420 정품박스 (커피레이크 리프레시/3.80GHz/4MB/쿨러포함) 76,500 인텔(소켓1151v2) / 14nm / 듀얼(2)코어 / 쓰레드 4개 / 3.80GHz / 4MB / 64비트 / 54W / DDR4 / 2400MHz / 인텔 UHD 610 / 350MHz / 하이퍼스레딩 / 옵테인\n",
      "[INTEL] 코어10세대 i5-10400F 벌크 쿨러포함 (코멧레이크/2.90GHz/12MB/병행수입) 161,000 인텔(소켓1200) / 14nm / 6코어 / 쓰레드 12개 / 기본 클럭: 2.9GHz / 12MB / 64비트 / 설계전력: 65W / 메모리 규격: DDR4 / 메모리 버스: 2666MHz / 내장그래픽 미포함\n",
      "[AMD] 라이젠 5 마티스 3600 (헥사코어/3.6GHz/쿨러포함/대리점정품/멀티팩) 202,000 AMD(소켓AM4) / 3세대 (Zen 2) / 7nm / 헥사(6)코어 / 12쓰레드 / 기본 클럭: 3.6GHz / 최대 클럭: 4.2GHz / L3 캐시: 32MB / TDP: 65W / PCIe4.0 / 메모리 규격: DDR4 / 3200MHz / 내장그래픽: 미탑재 / 기술 지원: SenseMI , StoreMI / 쿨러: Wraith Stealth 포함 / AM4\n",
      "[INTEL] 코어10세대 i7-10700 정품박스 (코멧레이크 /2.90GHz/16MB/쿨러 포함) 360,000 인텔(소켓1200) / 14nm / 8코어 / 쓰레드 16개 / 기본 클럭: 2.9GHz / 16MB / 64비트 / 설계전력: 65W / 메모리 규격: DDR4 / 메모리 버스: 2933MHz / 인텔 UHD 630 / PCIe 3.0 / 기술 지원: 하이퍼스레딩 , 옵테인\n",
      "[INTEL] 코어9세대 i5-9400F 정품박스 (커피레이크 리프레시/2.90GHz/9MB/쿨러포함) 155,700 9세대 커피레이크 R 코어 i5 / LGA1151-V2 / 14nm / 헥사(6)코어 / 쓰레드 6개 / 2.9GHz / 터보부스트 4.1GHz / 9MB / 64비트 / 65W / 옵테인 / 박스(쿨러포함) / / 내장그래픽 미포함\n",
      "[INTEL] 인텔 코어7세대 셀러론 G3930 벌크 쿨러포함 (카비레이크/2.9GHz/2MB/병행수입) 43,800 셀러론 G3930(2.9GHz) / 듀얼코어 / 카비레이크(KabyLake) / 14nm / 2MB버퍼 / LGA1151 / 병행수입 벌크 / 쿨러포함\n",
      "[INTEL] 코어10세대 i5-10400 벌크 쿨러포함 (코멧레이크/2.90GHz/12MB/병행수입) 193,830 인텔(소켓1200) / 14nm / 6코어 / 쓰레드 12개 / 기본 클럭: 2.9GHz / 12MB / 64비트 / 설계전력: 65W / 메모리 규격: DDR4 / 메모리 버스: 2666MHz / 인텔 UHD 630 / PCIe 3.0\n",
      "[AMD] 라이젠 5 마티스 3500 (헥사코어/3.6GHz/쿨러포함/대리점정품/멀티팩) 147,000 AMD(소켓AM4) / 3세대 (Zen 2) / 7nm / 헥사(6)코어 / 쓰레드 6개 / 3.6GHz / 3MB / 16MB / 65W / PCIe 4.0 / DDR4 / 3200MHz / XFR / SENSEMI / Wraith Stealth 쿨러 포함\n",
      "[INTEL] 코어10세대 i7-10700 벌크 쿨러포함 (코멧레이크 /2.90GHz/16MB/병행수입) 338,000 인텔(소켓1200) / 14nm / 8코어 / 쓰레드 16개 / 기본 클럭: 2.9GHz / 16MB / 64비트 / 설계전력: 65W / 메모리 규격: DDR4 / 메모리 버스: 2933MHz / 인텔 UHD 630 / PCIe 3.0\n",
      "[AMD] 라이젠5 버미어 5600X (6코어/12스레드/3.7GHz/쿨러포함/대리점정품/멀티팩) 415,000 AMD(소켓AM4) / 4세대 (Zen 3) / 7nm / 헥사(6)코어 / 12쓰레드 / 기본 클럭: 3.7GHz / 최대 클럭: 4.6GHz / L3 캐시: 32MB / TDP: 65W / PCIe4.0 / 메모리 규격: DDR4 / 3200MHz / 내장그래픽: 미탑재 / 기술 지원: StoreMI, Ryzen Master, VR Ready 프리미엄 / 쿨러: Wraith Stealth 포함 / AM4\n",
      "[INTEL] 인텔 펜티엄 골드 G6400 벌크 쿨러포함 (코멧레이크/4.0GHz/4MB/병행수입) 69,000 인텔(소켓1200) / 14nm / 2코어 / 쓰레드 4개 / 기본 클럭: 4.0GHz / 4MB / 64비트 / 설계전력: 58W / 메모리 규격: DDR4 / 메모리 버스: 2666MHz / 인텔 UHD 610 / PCIe 3.0\n",
      "[INTEL] 코어10세대 i7-10700F 정품박스 (코멧레이크 /2.90GHz/16MB/쿨러 포함) 335,000 인텔(소켓1200) / 14nm / 옥타(8)코어 / 쓰레드 16개 / 기본 클럭: 2.9GHz / 16MB / 64비트 / 설계전력: 65W / 메모리 규격: DDR4 / 메모리 버스: 2933MHz / PCIe 3.0 / 기술 지원: 하이퍼스레딩, 옵테인 / 출시가: 298~310달러(VAT별도)\n",
      "[INTEL] 코어10세대 i3-10100 정품박스 (코멧레이크 /3.60GHz/6MB/쿨러 포함) 139,000 인텔(소켓1200) / 14nm / 4코어 / 쓰레드 8개 / 기본 클럭: 3.6GHz / 6MB / 64비트 / 설계전력: 65W / 메모리 규격: DDR4 / 메모리 버스: 2666MHz / 인텔 UHD 630 / PCIe 3.0 / 기술 지원: 하이퍼스레딩 , 옵테인\n"
     ]
    },
    {
     "name": "stdout",
     "output_type": "stream",
     "text": [
      "[AMD] 라이젠 7 마티스 3800XT (옥타코어/3.9GHz/쿨러미포함/대리점정품) 399,000 AMD(소켓AM4) / 3세대 (Zen 2) / 7nm / 옥타(8)코어 / 16쓰레드 / 기본 클럭: 3.9GHz / 최대 클럭: 4.7GHz / GAME캐시: 36MB / TDP: 105W / PCIe4.0 / 메모리 규격: DDR4 / 3200MHz / 내장그래픽: 미탑재 / 기술 지원: SenseMI , StoreMI / 쿨러미포함\n",
      "[INTEL] 코어10세대 i5-10400F 벌크 쿨러미포함 (코멧레이크/2.90GHz/12MB/병행수입) 158,000 인텔(소켓1200) / 14nm / 6코어 / 쓰레드 12개 / 기본 클럭: 2.9GHz / 12MB / 64비트 / 설계전력: 65W / 메모리 규격: DDR4 / 메모리 버스: 2666MHz / 내장그래픽 미포함 / LGA 1200\n",
      "[INTEL] 셀러론 G4930 정품박스 (커피레이크 리프레시/3.2GHz/2.0MB/쿨러포함) 46,900 인텔(소켓1151v2) / 14nm / 듀얼(2)코어 / 2쓰레드 / 기본 클럭: 3.20GHz / L3 캐시: 2MB / 설계전력: 54W / 메모리 규격: DDR4 / 메모리 버스: 2400MHz / 인텔 UHD 610 / 기술 지원: 옵테인 / 쿨러: 인텔 기본쿨러 포함\n",
      "[AMD] 라이젠 7 버미어 5800X (8코어/16스레드/3.8GHz/쿨러미포함/대리점정품/멀티팩) 566,000 AMD(소켓AM4) / 4세대 (Zen 3) / 7nm / 옥타(8)코어 / 16쓰레드 / 기본 클럭: 3.8GHz / 최대 클럭: 4.7GHz / L3 캐시: 32MB / TDP: 105W / PCIe4.0 / 메모리 규격: DDR4 / 3200MHz / 내장그래픽: 미탑재 / 기술 지원: StoreMI, Ryzen Master, VR Ready 프리미엄 / 쿨러: 미포함\n",
      "[AMD] 라이젠 7 마티스 3700X (옥타코어/3.6GHz/쿨러포함/대리점정품/멀티팩) 375,000 AMD(소켓AM4) / 3세대 (Zen 2) / 7nm / 옥타(8)코어 / 16쓰레드 / 기본 클럭: 3.6GHz / 최대 클럭: 4.4GHz / L3 캐시: 32MB / TDP: 65W / PCIe4.0 / 메모리 규격: DDR4 / 3200MHz / 내장그래픽: 미탑재 / 기술 지원: SenseMI , StoreMI / 쿨러: Wraith PRISM 포함\n",
      "[INTEL] 코어10세대 i3-10100 벌크 쿨러미포함 (코멧레이크/3.60GHz/6MB/병행수입) 124,800 인텔(소켓1200) / 14nm / 4코어 / 쓰레드 8개 / 기본 클럭: 3.6GHz / 6MB / 64비트 / 설계전력: 65W / 메모리 규격: DDR4 / 메모리 버스: 2666MHz / 인텔 UHD 630 / PCIe 3.0\n",
      "[INTEL] 코어10세대 i7-10700K 정품박스 (코멧레이크 /3.80GHz/16MB/쿨러 미포함) 429,000 인텔(소켓1200) / 14nm / 8코어 / 쓰레드 16개 / 기본 클럭: 3.8GHz / 16MB / 64비트 / 설계전력: 125W / 메모리 규격: DDR4 / 메모리 버스: 2933MHz / 인텔 UHD 630 / PCIe 3.0 / 기술 지원: 하이퍼스레딩 , 옵테인\n",
      "[INTEL] 코어10세대 i7-10700F 벌크 (코멧레이크 /2.90GHz/16MB/쿨러 포함) 324,130 인텔(소켓1200) / 14nm / 옥타(8)코어 / 쓰레드 16개 / 기본 클럭: 2.9GHz / 16MB / 64비트 / 설계전력: 65W / 메모리 규격: DDR4 / 메모리 버스: 2933MHz / PCIe 3.0 / 기술 지원: 하이퍼스레딩, 옵테인\n",
      "[INTEL] 인텔 코어9세대 i5-9400F 벌크 쿨러미포함 (커피레이크 리프레시/2.9GHz/9MB/병행수입) 150,000 Core i5-9400F(2.9GHz) / 헥사코어 / 커피레이크(Coffee Lake Refresh) / 14nm / 9MB버퍼 / LGA1151-V2 / 내장그래픽 미지원 / 쿨러미포함 / 9세대커피레이크R\n",
      "[INTEL] 코어9세대 i3-9100F 정품박스 (커피레이크 리프레시/3.60GHz/6MB/쿨러포함) 100,000 9세대 커피레이크 R / 코어 i3 / 쿼드(4)코어 / LGA1151-V2 / 3.6~4.0GHz / 박스(쿨러포함) / 14nm / 6MB / 내장그래픽 미포함\n",
      "[INTEL] 인텔 코어9세대 i5-9400F 벌크 쿨러포함 (커피레이크 리프레시/2.9GHz/9MB/병행수입) 153,000 인텔(소켓1151v2) / 9세대 코어 i5 / 14nm / 헥사(6)코어 / 쓰레드 6개 / 2.9GHz / 부스트 4.1GHz / 9MB / 내장그래픽 미지원 / 쿨러포함 / 벌크(쿨러포함) / 내장그래픽미포함\n",
      "[INTEL] 코어10세대 i3-10100F 벌크 (코멧레이크 /3.60GHz/6MB/쿨러 포함) 127,710 인텔(소켓1200) / 14nm / 쿼드(4)코어 / 8쓰레드 / 기본 클럭: 3.6GHz / 최대 클럭: 4.3GHz / L3 캐시: 6MB / TDP: 65W / PCIe3.0 / 메모리 규격: DDR4 / 2666MHz / 내장그래픽: 미탑재 / 기술 지원: 하이퍼스레딩 , 옵테인 / 쿨러: 인텔 기본쿨러 포함\n",
      "[INTEL] 코어 10세대 G5905 정품박스 (코멧레이크/3.50GHz/4MB/쿨러 포함) 48,880 인텔(소켓1200) / 14nm / 듀얼(2)코어 / 2쓰레드 / 기본 클럭: 3.5GHz  / L3 캐시: 4MB / TDP: 58W / PCIe3.0 / 메모리 규격: DDR4 / 2666MHz / 내장그래픽: 탑재  /  쿨러: 포함\n",
      "[INTEL] 코어9세대 i3-9100 정품벌크 (커피레이크 리프레시/3.60GHz/6MB/쿨러미포함) 131,000 인텔(소켓1151v2) / 14nm / 쿼드(4)코어 / 쓰레드 4개 / 기본 클럭: 3.6GHz / 6MB / 설계전력: 65W / 메모리 규격: DDR4 / 메모리 버스: 2400MHz / 인텔 UHD 630 / PCIe 3.0 / 기술 지원: 옵테인\n",
      "[INTEL] 코어10세대 i7-10700 벌크 쿨러미포함 (코멧레이크 /2.90GHz/16MB/병행수입) 335,000 인텔(소켓1200) / 14nm / 8코어 / 쓰레드 16개 / 기본 클럭: 2.9GHz / 16MB / 64비트 / 설계전력: 65W / 메모리 규격: DDR4 / 메모리 버스: 2933MHz / 인텔 UHD 630 / PCIe 3.0\n",
      "[AMD] 라이젠 3 마티스 3300X (쿼드코어/3.8GHz/쿨러포함/대리점정품/멀티팩) 150,000 AMD(소켓AM4) / 3세대 (Zen 2) / 7nm / 쿼드(4)코어 / 8쓰레드 / 기본 클럭: 3.8GHz / 최대 클럭: 4.3GHz / L3 캐시: 16MB / TDP: 65W / PCIe4.0 / 메모리 규격: DDR4 / 3200MHz / 내장그래픽: 미탑재 / 기술 지원: SenseMI , StoreMI / 쿨러: Wraith Stealth 포함\n",
      "[INTEL] 코어10세대 i5-10500 벌크 쿨러포함 (코멧레이크/3.10GHz/12MB/병행수입) 212,000 인텔(소켓1200) / 14nm / 6코어 / 쓰레드 12개 / 기본 클럭: 3.1GHz / 12MB / 64비트 / 설계전력: 65W / 메모리 규격: DDR4 / 메모리 버스: 2666MHz / 인텔 UHD 630 / PCIe 3.0\n",
      "[INTEL] 코어10세대 i5-10600KF 벌크 (코멧레이크 /4.10GHz/12MB/쿨러 미포함) 213,460 인텔(소켓1200) / 14nm / 헥사(6)코어 / 12쓰레드 / 기본 클럭: 4.1GHz / 최대 클럭: 4.8GHz / L3 캐시: 12MB / TDP: 125W / PCIe3.0 / 메모리 규격: DDR4 / 2666MHz / 내장그래픽: 미탑재 / 기술 지원: 하이퍼스레딩 , 옵테인 / 쿨러: 미포함\n",
      "[INTEL] 코어9세대 i7-9700 벌크 쿨러포함 (커피레이크 리프레시/3.0GHz/12MB/병행수입) 301,360 Core i7-9700(3.0GHz) / 옥타코어 / 커피레이크(Coffee Lake Refresh) / 14nm / 12MB버퍼 / LGA1151-V2 / 쿨러포함\n",
      "[INTEL] 인텔 셀러론 G5905 벌크 쿨러포함 (코멧레이크/3.5GHz/4MB/병행수입) 47,500 인텔(소켓1200) / 14nm / 듀얼(2)코어 / 2쓰레드 / 기본 클럭: 3.5GHz / L3 캐시: 4MB / TDP: 58W / PCIe3.0 / 메모리 규격: DDR4 / 2666MHz / 내장그래픽: 탑재 / 병행수입 벌크 / 쿨러포함\n",
      "[INTEL] 인텔 코어9세대 i5-9400 벌크 쿨러포함 (커피레이크 리프레시/2.9GHz/9MB/병행수입) 191,360 인텔(소켓1151v2) / 14nm / 헥사(6)코어 / 6쓰레드 / 기본 클럭: 2.9GHz / L3 캐시: 9MB / 설계전력: 65W / 메모리 규격: DDR4 / 메모리 버스: 2666MHz / 인텔 UHD 630 / 기술 지원: 옵테인 / 쿨러: 인텔 기본쿨러 포함\n",
      "[INTEL] 인텔 코어9세대 i5-9500 벌크 쿨러미포함 (커피레이크 리프레시/3.0GHz/9MB/병행수입) 198,830 Core i5-9500(3.0GHz) / 헥사(6)코어 / 커피레이크(Coffee Lake Refresh) / 14nm / 9MB버퍼 / LGA1151-V2 / 쿨러미포함\n",
      "[INTEL] 코어9세대 i7-9700  벌크 쿨러미포함 (커피레이크 리프레시/3.0GHz/12MB/병행수입) 299,000 Core i7-9700(3.0GHz) / 옥타코어 / 커피레이크(Coffee Lake Refresh) / 14nm / 12MB버퍼 / LGA1151-V2 / 쿨러미포함\n",
      "[INTEL] 코어10세대 i9-10900K 정품박스 (코멧레이크 /3.70GHz/20MB/쿨러 미포함) 574,000 인텔(소켓1200) / 14nm / 10코어 / 쓰레드 20개 / 기본 클럭: 3.7GHz / 20MB / 64비트 / 설계전력: 125W / 메모리 규격: DDR4 / 메모리 버스: 2933MHz / 인텔 UHD 630 / PCIe 3.0 / 기술 지원: 하이퍼스레딩 , 옵테인\n",
      "[INTEL] 코어10세대 i3-10100F 벌크 (코멧레이크 /3.60GHz/6MB/쿨러 미포함) 124,800 인텔(소켓1200) / 14nm / 쿼드(4)코어 / 8쓰레드 / 기본 클럭: 3.6GHz / 최대 클럭: 4.3GHz / L3 캐시: 6MB / TDP: 65W / PCIe3.0 / 메모리 규격: DDR4 / 2666MHz / 내장그래픽: 미탑재 / 기술 지원: 하이퍼스레딩 , 옵테인 / 쿨러미포함\n",
      "[INTEL] 코어10세대 i5-10400 벌크 쿨러미포함 (코멧레이크/2.90GHz/12MB/병행수입) 192,000 인텔(소켓1200) / 14nm / 6코어 / 쓰레드 12개 / 기본 클럭: 2.9GHz / 12MB / 64비트 / 설계전력: 65W / 메모리 규격: DDR4 / 메모리 버스: 2666MHz / 인텔 UHD 630 / PCIe 3.0\n",
      "[INTEL] 인텔 코어8세대 i5-8500 벌크 쿨러미포함 (커피레이크/3.0GHz/9MB/병행수입) 202,000 Core i5-8500(3.0GHz) / 헥사코어 / 커피레이크(CoffeeLake) / 14nm / 9MB버퍼 / LGA1151-V2 / 병행수입 벌크 / 쿨러미포함\n",
      "[INTEL] 코어10세대 i7-10700F 벌크 (코멧레이크 /2.90GHz/16MB/쿨러 미포함) 321,300 인텔(소켓1200) / 14nm / 옥타(8)코어 / 쓰레드 16개 / 기본 클럭: 2.9GHz / 16MB / 64비트 / 설계전력: 65W / 메모리 규격: DDR4 / 메모리 버스: 2933MHz / PCIe 3.0 / 기술 지원: 하이퍼스레딩, 옵테인\n",
      "[INTEL] 코어10세대 i9-10900F 정품박스 (코멧레이크 /2.80GHz/20MB/쿨러 포함) 467,000 인텔(소켓1200) / 14nm / 10코어 / 쓰레드 20개 / 기본 클럭: 2.8GHz / 20MB / 64비트 / 설계전력: 65W / 메모리 규격: DDR4 / 메모리 버스: 2933MHz / PCIe 3.0 / 기술 지원: 하이퍼스레딩 , 옵테인\n",
      "[INTEL] 인텔 코어9세대 i5-9500 벌크 쿨러포함 (커피레이크 리프레시/3.0GHz/9MB/병행수입) 201,950 Core i5-9500(3.0GHz) / 헥사(6)코어 / 커피레이크(Coffee Lake Refresh) / 14nm / 9MB버퍼 / LGA1151-V2 / 쿨러포함\n",
      "[INTEL] 코어10세대 i5-10600K 정품박스 (코멧레이크 /4.10GHz/12MB/쿨러 미포함) 313,000 인텔(소켓1200) / 14nm / 6코어 / 쓰레드 12개 / 기본 클럭: 4.1GHz / 12MB / 64비트 / 설계전력: 125W / 메모리 규격: DDR4 / 메모리 버스: 2666MHz / 인텔 UHD 630 / PCIe 3.0 / 기술 지원: 하이퍼스레딩 , 옵테인\n",
      "[INTEL] 인텔 코어8세대 i7-8700 벌크 쿨러포함 (커피레이크/3.2GHz/12MB/병행수입) 336,000 Core i7-8700(3.2GHz) / 헥사코어 / 커피레이크(CoffeeLake) / 14nm / 12MB버퍼 / LGA1151-V2 / 병행수입 벌크 / 쿨러포함\n",
      "[INTEL] 코어9세대 i7-9700 정품박스 (커피레이크 리프레시/3.00GHz/12MB/쿨러포함) 342,050 9세대 커피레이크R / 코어 i7 / 옥타(8) 코어 / LGA 1151-V2 / 2.6 ~ 3.0GHz / 14nm / 12MB 이상 / HD 630 / 박스 (쿨러포함)\n",
      "[INTEL] 인텔 코어9세대 펜티엄 골드 G5420 벌크 쿨러포함 (커피레이크 리프레시/3.8GHz/4MB/병행수입) 74,400 펜티엄 골드 G5420(3.8GHz) / 듀얼(2)코어 / 커피레이크 리플레시 / 14nm / 4MB버퍼 / 64비트지원 / LGA1151v2 / 병행수입 벌크 / 쿨러포함\n",
      "[INTEL] 인텔 펜티엄 골드 G6400 벌크 쿨러미포함 (코멧레이크/4.0GHz/4MB/병행수입) 66,000 인텔(소켓1200) / 14nm / 2코어 / 쓰레드 4개 / 기본 클럭: 4.0GHz / 4MB / 64비트 / 설계전력: 58W / 메모리 규격: DDR4 / 메모리 버스: 2666MHz / 인텔 UHD 610 / PCIe 3.0\n",
      "[INTEL] 코어10세대 i7-10700K 벌크 쿨러미포함 (코멧레이크/3.80GHz/16MB/병행수입) 410,000 인텔(소켓1200) / 14nm / 8코어 / 쓰레드 16개 / 기본 클럭: 3.8GHz / 16MB / 64비트 / 설계전력: 125W / 메모리 규격: DDR4 / 메모리 버스: 2933MHz / 인텔 UHD 630 / PCIe 3.0\n",
      "[INTEL] 코어10세대 i7-10700KF 정품박스 (코멧레이크 /3.80GHz/16MB/쿨러 미포함) 400,000 인텔(소켓1200) / 14nm / 옥타(8)코어 / 쓰레드 16개 / 기본 클럭: 3.8GHz / 16MB / 64비트 / 설계전력: 125W / 메모리 규격: DDR4 / 메모리 버스: 2933MHz / PCIe 3.0 / 기술 지원: 하이퍼스레딩 , 옵테인\n",
      "[INTEL] 코어10세대 i9-10900 정품박스 (코멧레이크 /2.80GHz/20MB/쿨러 포함) 503,500 인텔(소켓1200) / 14nm / 10코어 / 쓰레드 20개 / 기본 클럭: 2.8GHz / 20MB / 64비트 / 설계전력: 65W / 메모리 규격: DDR4 / 메모리 버스: 2933MHz / 인텔 UHD 630 / PCIe 3.0 / 기술 지원: 하이퍼스레딩 , 옵테인\n",
      "[INTEL] 인텔 코어9세대 펜티엄 골드 G5420 벌크 쿨러미포함 (커피레이크 리프레시/3.8GHz/4MB/병행수입) 73,000 펜티엄 골드 G5420(3.8GHz) / 듀얼(2)코어 / 커피레이크 리플레시 / 14nm / 4MB버퍼 / 64비트지원 / LGA1151v2 / 병행수입 벌크 / 쿨러미포함\n",
      "[INTEL] 인텔 코어9세대 i5-9600KF 벌크 쿨러포함 (커피레이크 리프레시/3.7GHz/9MB/병행수입) 199,000 9세대 커피레이크 R / 코어 i5 / 헥사(6)코어 / LGA1151-V2 / 3.6~4.0GHz / 9MB / 14nm / 내장그래픽미포함 / 벌크(쿨러포함)\n",
      "[INTEL] 코어10세대 i5-10500 벌크 쿨러미포함 (코멧레이크/3.10GHz/12MB/병행수입) 209,000 인텔(소켓1200) / 14nm / 6코어 / 쓰레드 12개 / 기본 클럭: 3.1GHz / 12MB / 64비트 / 설계전력: 65W / 메모리 규격: DDR4 / 메모리 버스: 2666MHz / 인텔 UHD 630 / PCIe 3.0\n",
      "[INTEL] 인텔 코어9세대 i5-9400 벌크 쿨러미포함 (커피레이크 리프레시/2.9GHz/9MB/병행수입) 188,000 Core i5-9400(2.9GHz) / 헥사코어 / 커피레이크(Coffee Lake Refresh) / 14nm / 9MB버퍼 / LGA1151-V2 / 내장그래픽 / 쿨러미포함 / 9세대커피레이크R\n",
      "[INTEL] 코어10세대 i5-10600KF 벌크 (코멧레이크 /4.10GHz/12MB/쿨러포함) 213,400 인텔(소켓1200) / 14nm / 헥사(6)코어 / 12쓰레드 / 기본 클럭: 4.1GHz / 최대 클럭: 4.8GHz / L3 캐시: 12MB / TDP: 125W / PCIe3.0 / 메모리 규격: DDR4 / 2666MHz / 내장그래픽: 미탑재 / 기술 지원: 하이퍼스레딩 , 옵테인 / 쿨러: 미포함\n",
      "[INTEL] 인텔 셀러론 G5905 벌크 쿨러미포함 (코멧레이크/3.5GHz/4MB/병행수입) 44,500 인텔(소켓1200) / 14nm / 듀얼(2)코어 / 2쓰레드 / 기본 클럭: 3.5GHz / L3 캐시: 4MB / TDP: 58W / PCIe3.0 / 메모리 규격: DDR4 / 2666MHz / 내장그래픽: 탑재 / 병행수입 벌크 / 쿨러미포함\n",
      "[INTEL] 코어10세대 i9-10850K 정품박스 (코멧레이크 /3.60GHz/20MB/쿨러 미포함) 512,000 인텔(소켓1200) / 14nm / 10코어 / 20쓰레드 / 기본 클럭: 3.6GHz / 최대 클럭: 5.2GHz / L3 캐시: 20MB / TDP: 125W / PCIe3.0 / 메모리 규격: DDR4 / 2933MHz / 내장그래픽: 탑재 / 인텔 UHD 630 / 기술 지원: 하이퍼스레딩 , 옵테인 / 쿨러: 미포함 /\n",
      "[INTEL] 코어10세대 i9-10900K 벌크 쿨러미포함 (코멧레이크/3.7GHz/20MB/병행수입) 561,750 인텔(소켓1200) / 14nm / 10코어 / 쓰레드 20개 / 기본 클럭: 3.7GHz / 20MB / 64비트 / 설계전력: 125W / 메모리 규격: DDR4 / 메모리 버스: 2933MHz / 인텔 UHD 630 / PCIe 3.0\n",
      "[INTEL] 인텔 코어9세대 i5-9600KF 벌크 쿨러미포함 (커피레이크 리프레시/3.7GHz/9MB/병행수입) 196,000 9세대 커피레이크 R / 코어 i5 / 헥사(6)코어 / LGA1151-V2 / 3.6~4.0GHz / 9MB / 14nm / 내장그래픽미포함 / 벌크(쿨러미포함)\n",
      "[INTEL] 코어10세대 i5-10600K 벌크 쿨러포함 (코멧레이크/4.10GHz/12MB/병행수입) 280,000 인텔(소켓1200) / 14nm / 6코어 / 쓰레드 12개 / 기본 클럭: 4.1GHz / 12MB / 64비트 / 설계전력: 125W / 메모리 규격: DDR4 / 메모리 버스: 2666MHz / 인텔 UHD 630 / PCIe 3.0\n",
      "[INTEL] 인텔 코어7세대 셀러론 G3930 벌크 쿨러미포함 (카비레이크/2.9GHz/2MB/병행수입) 41,110 셀러론 G3930(2.9GHz) / 듀얼코어 / 카비레이크(KabyLake) / 14nm / 2MB버퍼 / LGA1151 / 벌크(쿨러미포함)\n",
      "[INTEL] 코어9세대 i7-9700F 정품박스 (커피레이크 리프레시/3.0GHz/12MB/쿨러포함) 333,010 9세대커피레이크R / 코어i7 / 옥타(8)코어 / LGA1151-V2 / 2.6~3.0GHz / 박스(쿨러포함) / 14nm / 12MB이상 / 내장그래픽미포함\n",
      "[INTEL] 코어9세대 i5-9400F 병행수입 박스 (커피레이크 리프레시/2.9GHz/9MB/쿨러포함) 152,920 Core i5-9400F(2.9GHz) / 헥사코어 / 커피레이크(Coffee Lake Refresh) / 14nm / 9MB버퍼 / LGA1151-V2 / 내장그래픽 미지원 / 쿨러포함\n",
      "[INTEL] 인텔 코어8세대 i5-8500 벌크 쿨러포함 (커피레이크/3.0GHz/9MB/병행수입) 205,000 Core i5-8500(3.0GHz) / 헥사코어 / 커피레이크(CoffeeLake) / 14nm / 9MB버퍼 / LGA1151-V2 / 병행수입 벌크 / 쿨러포함\n",
      "[INTEL] 인텔 셀러론 G4930 벌크 쿨러미포함 (커피레이크 리프레시/3.2GHz/2MB/병행수입) 47,250 셀러론 G4930(3.2GHz) / 듀얼코어 / 커피레이크 리프레시(CoffeeLake) / 14nm / 2MB버퍼 / LGA1151-V2 / 병행수입 벌크/ 쿨러미포함\n",
      "[AMD] 라이젠9 버미어 5950X (16코어/32스레드/3.4GHz/쿨러미포함/대리점정품) 1,120,000 AMD(소켓AM4) / 4세대/ 7nm / 16코어 / 32쓰레드 / 기본 클럭: 3.4GHz / 최대 클럭: 4.9GHz / L3 캐시: 64MB / TDP: 105W / PCIe4.0 / 메모리 규격: DDR4 / 3200MHz / 내장그래픽: 미탑재 / 쿨러미포함\n",
      "[INTEL] 코어10세대 i9-10900F 벌크 쿨러미포함 (코멧레이크 /2.80GHz/20MB/병행수입) 451,500 인텔(소켓1200) / 14nm / 10코어 / 쓰레드 20개 / 기본 클럭: 2.8GHz / 20MB / 64비트 / 설계전력: 65W / 메모리 규격: DDR4 / 메모리 버스: 2933MHz / PCIe 3.0 / 벌크(쿨러미포함) / 내장그래픽미포함\n",
      "[INTEL] 인텔 코어9세대 i7-9700KF 벌크 쿨러미포함 (커피레이크 리프레시/3.6GHz/12MB/병행수입) 313,420 9세대 커피레이크 R / 코어 i7 / 옥타(8)코어 / LGA1151-V2 / 3.6~4.0GHz / 벌크(쿨러미포함) / 12MB 이상 / 14nm / 내장그래픽미포함\n",
      "[INTEL] 코어10세대 i7-10700K 어벤져스 에디션 정품박스 (코멧레이크 /3.80GHz/16MB/쿨러 미포함) 420,000 인텔(소켓1200) / 14nm / 8코어 / 쓰레드 16개 / 기본 클럭: 3.8GHz / 16MB / 64비트 / 설계전력: 125W / 메모리 규격: DDR4 / 메모리 버스: 2933MHz / 인텔 UHD 630 / PCIe 3.0 / 기술 지원: 하이퍼스레딩 , 옵테인\n",
      "[INTEL] 코어10세대 i5-10600K 벌크 쿨러미포함 (코멧레이크/4.10GHz/12MB/병행수입) 277,000 인텔(소켓1200) / 14nm / 6코어 / 쓰레드 12개 / 기본 클럭: 4.1GHz / 12MB / 64비트 / 설계전력: 125W / 메모리 규격: DDR4 / 메모리 버스: 2666MHz / 인텔 UHD 630 / PCIe 3.0\n",
      "[INTEL] 코어10세대 i9-10940X 정품박스 (캐스케이드레이크/3.30GHz/19.25MB/쿨러미포함) 1,050,000 인텔(소켓2066) / 14nm / 14코어 / 쓰레드 28개 / 3.30GHz / 19.25MB / 165W / DDR4 / 2933MHz / PCIe 3.0 / 하이퍼스레딩 / 옵테인\n",
      "[AMD] 라이젠 9 마티스 3950X 정품박스 (16코어/3.5GHz/쿨러미포함/대리점정품) 904,000 AMD(소켓AM4) / 3세대 (Zen 2) / 7nm / 16코어 / 32쓰레드 / 기본 클럭: 3.5GHz / L3 캐시: 64MB / 설계전력: 105W / PCIe4.0 / 메모리 규격: DDR4 / 메모리 버스: 3200MHz / 쿨러: 미포함\n"
     ]
    },
    {
     "name": "stdout",
     "output_type": "stream",
     "text": [
      "[AMD] 라이젠 스레드리퍼 3970X 정품박스 (32코어/3.7GHz/쿨러미포함/대리점정품/Threadripper) 2,612,270 AMD(소켓sTRX4) / 3세대 (Zen 2) / 7nm / 32코어 / 64쓰레드 / 기본 클럭: 3.7GHz / L3 캐시: 128MB / 설계전력: 280W / PCIe4.0 / 메모리 규격: DDR4 / 메모리 버스: 3200MHz / 기술 지원: XFR, SENSEMI / 쿨러: 미포함 / 쿼드 채널 ECC 메모리 지원\n",
      "[INTEL] 코어9세대 i3-9100F 병행수입 박스 (커피레이크 리프레시/3.60GHz/6MB/쿨러포함) 100,700 9세대 커피레이크 R / 코어 i3 / 쿼드(4)코어 / LGA1151-V2 / 3.6~4.0GHz / 박스(쿨러포함) / 6MB / 14nm / 내장그래픽미포함\n",
      "[INTEL] 인텔 코어7세대 i3-7100 벌크 쿨러포함 (카비레이크/3.9GHz/3MB/병행수입) 105,300 Core i3-7100(3.9GHz) / 듀얼코어 / 카비레이크(KabyLake) / 14nm / 3MB버퍼 / LGA1151 / 벌크 / 쿨러포함\n",
      "[INTEL] 코어10세대 i9-10980XE 정품박스 (캐스케이드레이크/3.0GHz/24.75MB/쿨러미포함) 1,291,500 인텔(소켓2066) / 14nm / 18코어 / 쓰레드 36개 / 3.0GHz / 24.75MB / 165W / DDR4 / 2933MHz / PCIe 3.0 / 하이퍼스레딩 / 옵테인\n",
      "[INTEL] 코어10세대 i9-10900KF 정품박스 (코멧레이크 /3.70GHz/20MB/쿨러 미포함) 620,000 인텔(소켓1200) / 14nm / 10코어 / 쓰레드 20개 / 기본 클럭: 3.7GHz / 20MB / 64비트 / 설계전력: 125W / 메모리 규격: DDR4 / 메모리 버스: 2933MHz / PCIe 3.0 / 기술 지원: 하이퍼스레딩 , 옵테인 / LGA 1200\n",
      "[INTEL] 코어10세대 i7-10700K 벌크 쿨러포함 (코멧레이크/3.80GHz/16MB/병행수입) 413,000 인텔(소켓1200) / 14nm / 8코어 / 쓰레드 16개 / 기본 클럭: 3.8GHz / 16MB / 64비트 / 설계전력: 125W / 메모리 규격: DDR4 / 메모리 버스: 2933MHz / 인텔 UHD 630 / PCIe 3.0\n",
      "[INTEL] 코어10세대 i9-10900 벌크 쿨러미포함 (코멧레이크/2.8GHz/20MB/병행수입) 485,000 인텔(소켓1200) / 14nm / 10코어 / 쓰레드 20개 / 기본 클럭: 2.8GHz / 20MB / 64비트 / 설계전력: 65W / 메모리 규격: DDR4 / 메모리 버스: 2933MHz / 인텔 UHD 630 / PCIe 3.0\n",
      "[AMD] 라이젠 스레드리퍼 3960X 정품박스 (24코어/3.8GHz/쿨러미포함/대리점정품/Threadripper) 1,776,600 AMD(소켓sTRX4) / 3세대 (Zen 2) / 7nm / 24코어 / 쓰레드 48개 / 3.8GHz / 12MB / 128MB / 280W / PCIe 4.0 / DDR4 / 3200MHz / XFR / SENSEMI / 64비트 / 정품: 쿨러 미포함 / 쿼드 채널 ECC 메모리 지원\n",
      "[INTEL] 코어10세대 i7-10700 정품벌크 (코멧레이크 /2.90GHz/16MB/쿨러 미포함) 395,000 인텔(소켓1200) / 14nm / 8코어 / 쓰레드 16개 / 기본 클럭: 2.9GHz / 16MB / 64비트 / 설계전력: 65W / 메모리 규격: DDR4 / 메모리 버스: 2933MHz / 인텔 UHD 630 / PCIe 3.0 / 기술 지원: 하이퍼스레딩 , 옵테인\n",
      "[INTEL] 코어10세대 i9-10900X 벌크 (캐스케이드레이크/3.7GHz/19.25MB/쿨러미포함) 665,700 인텔(소켓2066) / 10코어 / 쓰레드 20개 / 3.7GHz / 19.25MB / 165W / DDR4 / 2933MHz / PCIe 3.0 / 하이퍼스레딩 / 옵테인 / 10세대 캐스케이드레이크 / 코어 i9 / 데카(10) 코어 / 박스 (쿨러미포함) / 14nm\n",
      "[INTEL] 인텔 코어9세대 i9-9900KF 벌크 쿨러미포함 (커피레이크 리프레시/3.6GHz/16MB/병행수입) 420,200 9세대 커피레이크 R / 코어 i9 / 옥타(8)코어 / LGA1151-V2 / 3.6~4.0GHz / 벌크(쿨러미포함) / 내장그래픽미포함 / 14nm / 12MB 이상\n",
      "[INTEL] 제온 스케일러블 실버 4210 정품(2.2G/13.75M/10코어/쿨러 미포함) 772,900 인텔(소켓3647) / 14nm / 10코어 / 쓰레드 20개 / 2.20GHz / 13.75MB / 85W / DDR4 / 2400MHz / PCIe 3.0 / 하이퍼스레딩\n",
      "[INTEL] 코어9세대 i5-9600KF 정품박스 (커피레이크 리프레시/3.70GHz/9MB/쿨러미포함) 234,470 9세대 커피레이크 R / 코어 i5 / 헥사(6)코어 / LGA1151-V2 / 3.6~4.0GHz / 박스(쿨러미포함) / 14nm / 9MB / 내장그래픽 미포함\n",
      "[INTEL] 제온 E5-2630 v4 정품박스 (브로드웰-EP/2.2GHz/25MB/쿨러미포함) 997,700 E5-2630 v4(2.2GHz) / 데카코어 / 브로드웰-EP(Broadwell-EP) / 14nm / 25MB버퍼 / LGA2011-V3 (제온) / 박스 / 쿨러미포함\n",
      "[INTEL] 코어10세대 i9-10900 벌크 쿨러포함 (코멧레이크/2.8GHz/20MB/병행수입) 488,000 인텔(소켓1200) / 14nm / 10코어 / 쓰레드 20개 / 기본 클럭: 2.8GHz / 20MB / 64비트 / 설계전력: 65W / 메모리 규격: DDR4 / 메모리 버스: 2933MHz / 인텔 UHD 630 / PCIe 3.0\n",
      "[INTEL] 코어10세대 i9-10900F 벌크 쿨러포함 (코멧레이크 /2.80GHz/20MB/병행수입) 454,440 인텔(소켓1200) / 14nm / 10코어 / 쓰레드 20개 / 기본 클럭: 2.8GHz / 20MB / 64비트 / 설계전력: 65W / 메모리 규격: DDR4 / 메모리 버스: 2933MHz / PCIe 3.0 / 벌크(쿨러포함) / 내장그래픽미포함\n",
      "[INTEL] 인텔 제온 E-2174G 정품(커피레이크/3.8GHz/8MB/쿨러포함) 497,900 인텔(소켓1151) / 14nm / 쿼드(4)코어 / 쓰레드 8개 / 3.8GHz / 8MB / 64비트 / 71W / 인텔 UHD P630 / 350MHz / 하이퍼스레딩 / 옵테인\n",
      "[INTEL] 인텔 제온 E-2176G 정품 (커피레이크/3.7GHz/12MB/쿨러포함) 551,000 인텔(소켓1151) / 14nm / 헥사(6)코어 / 쓰레드 12개 / 3.7GHz / 12MB / 64비트 / 80W / 인텔 UHD P630 / 350MHz / 하이퍼스레딩 / 옵테인\n",
      "[INTEL] 제온 E-2224 정품박스(3.4GHz/8M/4코어/쿨러포함) 293,730 인텔(소켓1151v2) / 14nm / 쿼드(4)코어 / 쓰레드 4개 / 3.4GHz / 8MB / 64비트 / 71W / DDR4 / 2666MHz / PCIe 3.0 / 옵테인 /내장그래픽 미포함\n",
      "[INTEL] 코어10세대 i9-10900K 벌크 쿨러포함 (코멧레이크/3.7GHz/20MB/병행수입) 564,690 인텔(소켓1200) / 14nm / 10코어 / 쓰레드 20개 / 기본 클럭: 3.7GHz / 20MB / 64비트 / 설계전력: 125W / 메모리 규격: DDR4 / 메모리 버스: 2933MHz / 인텔 UHD 630 / PCIe 3.0\n",
      "[INTEL] 코어9세대 i5-9500 정품벌크 (커피레이크 리프레시/3.00GHz/9MB/쿨러미포함) 229,000 인텔(소켓1151v2) / 14nm / 헥사(6)코어 / 쓰레드 6개 / 3.0GHz / 9MB / 64비트 / 65W / 옵테인\n",
      "[INTEL] 인텔 코어9세대 i9-9900KF 벌크 쿨러포함 (커피레이크 리프레시/3.6GHz/16MB/병행수입) 420,200 9세대 커피레이크 R / 코어 i9 / 옥타(8)코어 / LGA1151-V2 / 3.6~4.0GHz / 벌크(쿨러포함) / 12MB 이상 / 14nm / 내장그래픽미포함\n",
      "[INTEL] 제온 스케일러블 골드 6234 정품(3.3G/24.75M/8코어/쿨러 미포함) 3,343,000 인텔(소켓3647) / 14nm / 옥타(8)코어 / 쓰레드 16개 / 3.30GHz / 24.75MB / 130W / DDR4 / 2933MHz / PCIe 3.0 / 하이퍼스레딩 / 옵테인\n",
      "[INTEL] 제온 스케일러블 골드 6240 정품(2.6G/24.75M/18코어/쿨러 미포함) 3,630,000 인텔(소켓3647) / 14nm / 18코어 / 쓰레드 36개 / 2.60GHz / 24.75MB / 150W / DDR4 / 2933MHz / PCIe 3.0 / 하이퍼스레딩 / 옵테인\n",
      "[INTEL] 제온 스케일러블 실버 4208 정품(2.1G/11M/8코어/쿨러 미포함) 633,150 인텔(소켓3647) / 14nm / 옥타(8)코어 / 쓰레드 16개 / 2.10GHz / 11MB / 85W / DDR4 / 2400MHz / PCIe 3.0 / 하이퍼스레딩\n",
      "[AMD] EPYC™ (Eight-Core) Model 7232P(옥타코어 /3.1GHz/대리점정품) 840,000 Model 7232P(AMD(소켓SP3) / 2세대 (Zen 2) / 7nm / 옥타(8)코어 / 쓰레드 16개 / 3.1GHz / 4MB / 32MB / 120W / PCIe 4.0 / DDR4 / 3200MHz)\n",
      "[AMD] EPYC™ (Eight-Core) Model 7262(옥타코어 /3.2GHz/대리점정품) 1,070,000 AMD(소켓SP3) / 2세대 (Zen 2) / 7nm / 옥타(8)코어 / 쓰레드 16개 / 3.2GHz / 4MB / 128MB / 155W / PCIe 4.0 / DDR4 / 3200MHz\n",
      "[AMD] EPYC™ (Forty-Eight-Core) Model 7642(48코어 /2.3GHz/대리점정품) 8,720,000 AMD(소켓SP3) / 2세대 (Zen 2) / 7nm / 48코어 / 쓰레드 96개 / 2.3GHz / 24MB / 256MB / 225W / PCIe 4.0 / DDR4 / 3200MHz\n",
      "[AMD] EPYC™ (Sixteen-Core) Model 7302(16코어 /3.0GHz/대리점정품) 1,830,000 AMD(소켓SP3) / 2세대 (Zen 2) / 7nm / 16코어 / 쓰레드 32개 / 3.0GHz / 8MB / 128MB / 155W / PCIe 4.0 / DDR4 / 3200MHz\n",
      "[AMD] EPYC™ (Sixty-Four-Core) Model 7742(64코어 /2.25GHz/대리점정품) 12,800,000 AMD(소켓SP3) / 2세대 (Zen 2) / 7nm / 64코어 / 쓰레드 128개 / 2.25GHz / 32MB / 256MB / 225W / PCIe 4.0 / DDR4 / 3200MHz\n",
      "[AMD] EPYC™ (Thirty-two-Core) Model 7452(32코어 /2.35GHz/대리점정품) 3,700,000 AMD(소켓SP3) / 2세대 (Zen 2) / 7nm / 32코어 / 쓰레드 64개 / 2.35GHz / 16MB / 128MB / 155W / PCIe 4.0 / DDR4 / 3200MHz\n",
      "[AMD] EPYC™ (Thirty-two-Core) Model 7542(32코어 /2.9GHz/대리점정품) 6,250,000 AMD(소켓SP3) / 2세대 (Zen 2) / 7nm / 32코어 / 쓰레드 64개 / 2.9GHz / 16MB / 128MB / 225W / PCIe 4.0 / DDR4 / 3200MHz\n",
      "[AMD] EPYC™ (Twenty-four Core) Model 7352(24코어 /2.3GHz/대리점정품) 2,100,000 AMD(소켓SP3) / 2세대 (Zen 2) / 7nm / 24코어 / 쓰레드 48개 / 2.3GHz / 12MB / 128MB / 155W / PCIe 4.0 / DDR4 / 3200MHz\n",
      "[INTEL] 인텔 제온 E-2124 정품(커피레이크/3.3GHz/8MB/쿨러포함) 285,000 인텔(소켓1151) / 14nm / 쿼드(4)코어 / 쓰레드 4개 / 3.3GHz / 8MB / 64비트 / 71W / 옵테인\n",
      "[INTEL] 인텔 제온 E-2134 정품(커피레이크/3.5GHz/8MB/쿨러포함) 364,000 인텔(소켓1151) / 14nm / 쿼드(4)코어 / 쓰레드 8개 / 3.5GHz / 8MB / 64비트 / 71W / 옵테인\n",
      "[INTEL] 인텔 제온 E-2136 정품(커피레이크/3.3GHz/12MB/쿨러포함) 433,200 인텔(소켓1151) / 14nm / 헥사(6)코어 / 쓰레드 12개 / 3.3GHz / 12MB / 64비트 / 80W / 하이퍼스레딩 / 옵테인\n",
      "[INTEL] 인텔 제온 E-2224G 정품박스(3.5GHz/8M/4코어/쿨러포함) 328,000 INTEL XEON\n",
      "[INTEL] 제온 E3-1220 v6 정품박스 (카비레이크/3.0GHz/8MB/쿨러포함) 306,000 E3-1220 v6(3.0GHz) / 쿼드코어 / 카비레이크(Kaby Lake) / 14nm / 8MB버퍼 / LGA1151 (제온) / 박스 / 쿨러포함\n",
      "[INTEL] 제온 E3-1240 v6 정품박스 (카비레이크/3.7GHz/8MB/쿨러포함) 432,000 E3-1240 v6(3.7GHz) / 쿼드코어 / 카비레이크(Kaby Lake) / 14nm / 8MB버퍼 / LGA1151 (제온) / 박스 / 쿨러포함\n",
      "[INTEL] 제온 E3-1245 v6 정품박스 (카비레이크/3.7GHz/8MB/쿨러포함) 449,000 E3-1245 v6(3.7GHz) / 쿼드코어 / 카비레이크(Kaby Lake) / 14nm / 8MB버퍼 / LGA1151 (제온) / 박스 / 쿨러포함\n",
      "[INTEL] 제온 E3-1270 v6 정품박스 (카비레이크/3.8GHz/8MB/쿨러포함) 510,800 E3-1270 v6(3.8GHz) / 쿼드코어 / 카비레이크(Kaby Lake) / 14nm / 8MB버퍼 / LGA1151 (제온) / 박스 / 쿨러포함\n",
      "[INTEL] 제온 스케일러블 골드 5220 정품(2.2G/24.75M/18코어/쿨러 미포함) 2,296,400 인텔(소켓3647) / 14nm / 18코어 / 쓰레드 36개 / 2.20GHz / 24.75MB / 125W / DDR4 / 2667MHz / PCIe 3.0 / 하이퍼스레딩 / 옵테인\n",
      "[INTEL] 제온 스케일러블 골드 6238 정품(2.1G/24.75M/22코어/쿨러 미포함) 3,944,000 인텔(소켓3647) / 14nm / 22코어 / 쓰레드 44개 / 2.10GHz / 24.75MB / 140W / DDR4 / 2933MHz / PCIe 3.0 / 하이퍼스레딩 / 옵테인\n",
      "[INTEL] 제온 스케일러블 골드 6242 정품(2.8G/22M/16코어/쿨러 미포함) 3,675,000 인텔(소켓3647) / 14nm / 16코어 / 쓰레드 32개 / 2.80GHz / 22MB / 150W / DDR4 / 2933MHz / PCIe 3.0 / 하이퍼스레딩 / 옵테인\n",
      "[INTEL] 제온 스케일러블 골드 6248 정품(2.5G/27.5M/20코어/쿨러 미포함) 4,471,500 인텔(소켓3647) / 14nm / 20코어 / 쓰레드 40개 / 2.50GHz / 27.5MB / 150W / DDR4 / 2933MHz / PCIe 3.0 / 하이퍼스레딩 / 옵테인\n",
      "[INTEL] 제온 스케일러블 브론즈 3204 정품(1.9G/8.25M/6코어/쿨러 미포함) 344,100 인텔(소켓3647) / 14nm / 헥사(6)코어 / 쓰레드 6개 / 1.90GHz / 8.25MB / 85W / DDR4 / 2133MHz / PCIe 3.0\n",
      "[INTEL] 코어9세대 i5-9500F 정품박스 (커피레이크 리프레시 / 3.0GHz / 9MB / 쿨러포함) 210,000 9세대커피레이크R / 코어i5 / 헥사(6)코어 / LGA1151-V2 / 2.6~3.0GHz / 박스(쿨러포함) / 14nm / 9MB / 내장그래픽미포함\n",
      "[INTEL] 코어9세대 i5-9500F 정품벌크 (커피레이크 리프레시/3.00GHz/9MB/쿨러미포함) 195,000 인텔(소켓1151v2) / 14nm / 헥사(6)코어 / 쓰레드 6개 / 3.0GHz / 9MB / 64비트 / 65W / 옵테인\n",
      "[INTEL] 인텔 코어9세대 i7-9700KF 벌크 쿨러포함 (커피레이크 리프레시/3.6GHz/12MB/병행수입) 313,650 9세대 커피레이크 R / 코어 i7 / 옥타(8)코어 / 3.6~4.0GHz / 벌크(쿨러포함) / 12MB 이상 / 14nm / 내장그래픽미포함\n",
      "[INTEL] 제온 E3-1230 v6 정품박스 (카비레이크/3.5GHz/8MB/쿨러포함) 387,600 E3-1230 v6(3.5GHz) / 쿼드코어 / 카비레이크(Kaby Lake) / 14nm / 8MB버퍼 / LGA1151 (제온) / 박스 / 쿨러포함\n",
      "[INTEL] 제온 E3-1225 v6 정품박스 (카비레이크/3.3GHz/8MB/쿨러포함) 329,460 E3-1225 v6(3.3GHz) / 쿼드코어 / 카비레이크(Kaby Lake) / 14nm / 8MB버퍼 / LGA1151 (제온) / 박스 / 쿨러포함\n",
      "[INTEL] 인텔 펜티엄 G5400 벌크 쿨러포함 (커피레이크/3.7GHz/4MB/병행수입) 가격정보없음 펜티엄 골드 G5400(3.7GHz) / 듀얼코어 / 커피레이크(CoffeeLake) / 14nm / 4MB버퍼 / LGA1151-V2 / 병행수입 벌크 / 쿨러포함\n",
      "[INTEL] 인텔 코어7세대 i7-7700 벌크 쿨러미포함 (카비레이크/3.6GHz/8MB/병행수입) 가격정보없음 Core i7-7700(3.6GHz) / 쿼드코어 / 카비레이크(KabyLake) / 14nm / 8MB버퍼 / LGA1151 / 벌크 / 쿨러미포함\n",
      "[INTEL] 인텔 코어6세대 i5-6500 벌크 쿨러미포함 (스카이레이크/3.2GHz/6MB/병행수입) 가격정보없음 Core i5-6500(3.2GHz) / 쿼드코어 / 스카이레이크(Skylake) / 14nm / 6MB버퍼 / 32(64)비트지원 / LGA1151 / 벌크 / 쿨러미포함\n",
      "[INTEL] 인텔 코어6세대 i5-6500 벌크 쿨러포함 (스카이레이크/3.2GHz/6MB/병행수입) 가격정보없음 Core i5-6500(3.2GHz) / 쿼드코어 / 스카이레이크(Skylake) / 14nm / 6MB버퍼 / 32(64)비트지원 / LGA1151 / 벌크 / 쿨러포함\n",
      "[INTEL] 인텔 코어7세대 i5-7500 벌크 쿨러미포함 (카비레이크/3.4GHz/6MB/병행수입) 가격정보없음 Core i5-7500(3.4GHz) / 쿼드코어 / 카비레이크(KabyLake) / 14nm / 6MB버퍼 / LGA1151 / 벌크 / 쿨러미포함\n",
      "[INTEL] 제온 E3-1270V5 정품박스 (스카이레이크/3.6GHz/8MB/쿨러포함) 가격정보없음 E3-1270V5(3.6GHz) / 쿼드코어 / 스카이레이크(Skylake) / 14nm / 8MB버퍼 / 32(64)비트지원 / LGA1151 (제온) / 박스 / 쿨러포함\n",
      "[INTEL] 코어8세대 i3-8100 정품박스 (커피레이크/3.6GHz/6MB/쿨러포함) 가격정보없음 Core i3-8100(3.6GHz) / 쿼드코어 / 커피레이크(CoffeeLake) / 14nm / 6MB버퍼 / LGA1151-V2 / 정품박스 / 쿨러포함\n",
      "[INTEL] 인텔 코어9세대 i3-9100 벌크 쿨러포함 (커피레이크 리프레시/3.60GHz/6MB/병행수입) 가격정보없음 인텔(소켓1151v2) / 14nm / 쿼드(4)코어 / 4쓰레드 / 기본 클럭: 3.6GHz / L3 캐시: 6MB / 설계전력: 65W / PCIe3.0 / 메모리 규격: DDR4 / 메모리 버스: 2400MHz / 인텔 UHD 630 / 기술 지원: 옵테인 / 쿨러: 인텔 기본쿨러 포함\n",
      "[AMD] 라이젠 5 마티스 3500X (헥사코어/3.6GHz/쿨러포함/대리점정품/멀티팩) 가격정보없음 AMD(소켓AM4) / 3세대 (Zen 2) / 7nm / 헥사(6)코어 / 6쓰레드 / 기본 클럭: 3.6GHz / L3 캐시: 32MB / 설계전력: 65W / PCIe4.0 / 메모리 규격: DDR4 / 메모리 버스: 3200MHz / 쿨러: Wraith Stealth 포함\n"
     ]
    }
   ],
   "source": [
    "idx=1\n",
    "cpu_list = [] \n",
    "while True: \n",
    "    script = \"javascript:search_ajax_list('small','cpu','sale_order',20,{},{},0,'4','1012','','undefined',690,19900000,'1327|/|쿨러/튜닝용품|1020|491|/|CPU|1012|228|/|케이스|1147|596|/|커스텀 수랭|1289|6|/|메인보드|1013|6','','','','','','','','','');go_top();\"\n",
    "    driver.execute_script(script.format((idx-1)*20,idx))\n",
    "    if idx==10:\n",
    "        break\n",
    "    idx+=1\n",
    "    \n",
    "    html = driver.page_source\n",
    "    soup = BeautifulSoup(html, 'html.parser')\n",
    "    cpu_items = soup.select('.product_list >li')\n",
    "    \n",
    "    cpu_title = soup.select('.prd_info_Box .prd_info_name')\n",
    "    cpu_spec = soup.select('.prd_subTxt a')\n",
    "    cpu_price = soup.select('span.won > strong')\n",
    "    \n",
    "    for cpu_item in cpu_items:\n",
    "        try: \n",
    "            title = cpu_item.select('.prd_info_Box .prd_info_name')[0].text.strip()\n",
    "        except:\n",
    "            title = '상품이름없음'\n",
    "        try:\n",
    "            price = cpu_item.select('span.won > strong')[0].text.strip()\n",
    "        except:\n",
    "            price = '가격정보없음'\n",
    "        try:\n",
    "            spec = cpu_item.select('.prd_subTxt a')[0].text.strip()\n",
    "        except:\n",
    "            spec = '상세정보없음'\n",
    "        cpu_list.append([title, price, spec])\n",
    "        print(title, price, spec)"
   ]
  },
  {
   "cell_type": "code",
   "execution_count": 10,
   "metadata": {
    "scrolled": false
   },
   "outputs": [
    {
     "ename": "NameError",
     "evalue": "name 'cpu_list' is not defined",
     "output_type": "error",
     "traceback": [
      "\u001b[1;31m---------------------------------------------------------------------------\u001b[0m",
      "\u001b[1;31mNameError\u001b[0m                                 Traceback (most recent call last)",
      "\u001b[1;32m<ipython-input-10-5bcd322f3b78>\u001b[0m in \u001b[0;36m<module>\u001b[1;34m\u001b[0m\n\u001b[0;32m      1\u001b[0m \u001b[1;32mimport\u001b[0m \u001b[0mpandas\u001b[0m \u001b[1;32mas\u001b[0m \u001b[0mpd\u001b[0m\u001b[1;33m\u001b[0m\u001b[1;33m\u001b[0m\u001b[0m\n\u001b[1;32m----> 2\u001b[1;33m \u001b[0mcpu_data\u001b[0m \u001b[1;33m=\u001b[0m \u001b[0mpd\u001b[0m\u001b[1;33m.\u001b[0m\u001b[0mDataFrame\u001b[0m\u001b[1;33m(\u001b[0m\u001b[0mcpu_list\u001b[0m\u001b[1;33m)\u001b[0m\u001b[1;33m\u001b[0m\u001b[1;33m\u001b[0m\u001b[0m\n\u001b[0m\u001b[0;32m      3\u001b[0m \u001b[0mcpu_data\u001b[0m\u001b[1;33m.\u001b[0m\u001b[0mcolumns\u001b[0m \u001b[1;33m=\u001b[0m \u001b[1;33m[\u001b[0m\u001b[1;34m'상품명'\u001b[0m\u001b[1;33m,\u001b[0m \u001b[1;34m'가격'\u001b[0m\u001b[1;33m,\u001b[0m \u001b[1;34m'스펙'\u001b[0m\u001b[1;33m]\u001b[0m\u001b[1;33m\u001b[0m\u001b[1;33m\u001b[0m\u001b[0m\n\u001b[0;32m      4\u001b[0m \u001b[0mcpu_data\u001b[0m\u001b[1;33m.\u001b[0m\u001b[0mto_csv\u001b[0m\u001b[1;33m(\u001b[0m\u001b[1;34m'./cpudata.csv'\u001b[0m\u001b[1;33m)\u001b[0m\u001b[1;33m\u001b[0m\u001b[1;33m\u001b[0m\u001b[0m\n\u001b[0;32m      5\u001b[0m \u001b[0mcpu_data\u001b[0m\u001b[1;33m.\u001b[0m\u001b[0mto_excel\u001b[0m\u001b[1;33m(\u001b[0m\u001b[1;34m'./cpudata.xlsx'\u001b[0m\u001b[1;33m)\u001b[0m\u001b[1;33m\u001b[0m\u001b[1;33m\u001b[0m\u001b[0m\n",
      "\u001b[1;31mNameError\u001b[0m: name 'cpu_list' is not defined"
     ]
    }
   ],
   "source": [
    "import pandas as pd\n",
    "cpu_data = pd.DataFrame(cpu_list)\n",
    "cpu_data.columns = ['상품명', '가격', '스펙']\n",
    "cpu_data.to_csv('./cpudata.csv')\n",
    "cpu_data.to_excel('./cpudata.xlsx')\n",
    "cpu_data"
   ]
  },
  {
   "cell_type": "markdown",
   "metadata": {},
   "source": [
    "데이터 전처리 \n"
   ]
  },
  {
   "cell_type": "code",
   "execution_count": 3,
   "metadata": {
    "scrolled": true
   },
   "outputs": [
    {
     "name": "stdout",
     "output_type": "stream",
     "text": [
      "<class 'pandas.core.frame.DataFrame'>\n",
      "RangeIndex: 180 entries, 0 to 179\n",
      "Data columns (total 5 columns):\n",
      " #   Column      Non-Null Count  Dtype \n",
      "---  ------      --------------  ----- \n",
      " 0   Unnamed: 0  180 non-null    int64 \n",
      " 1   상품명         180 non-null    object\n",
      " 2   가격          180 non-null    object\n",
      " 3   스펙          180 non-null    object\n",
      " 4   회사          180 non-null    object\n",
      "dtypes: int64(1), object(4)\n",
      "memory usage: 7.2+ KB\n"
     ]
    }
   ],
   "source": [
    "cpu_xlsx = pd.read_excel('./cpu_data.xlsx')\n",
    "cpu_xlsx.info()"
   ]
  },
  {
   "cell_type": "code",
   "execution_count": 85,
   "metadata": {},
   "outputs": [
    {
     "data": {
      "text/html": [
       "<div>\n",
       "<style scoped>\n",
       "    .dataframe tbody tr th:only-of-type {\n",
       "        vertical-align: middle;\n",
       "    }\n",
       "\n",
       "    .dataframe tbody tr th {\n",
       "        vertical-align: top;\n",
       "    }\n",
       "\n",
       "    .dataframe thead th {\n",
       "        text-align: right;\n",
       "    }\n",
       "</style>\n",
       "<table border=\"1\" class=\"dataframe\">\n",
       "  <thead>\n",
       "    <tr style=\"text-align: right;\">\n",
       "      <th></th>\n",
       "      <th>제목</th>\n",
       "      <th>스펙</th>\n",
       "      <th>가격</th>\n",
       "    </tr>\n",
       "  </thead>\n",
       "  <tbody>\n",
       "    <tr>\n",
       "      <th>0</th>\n",
       "      <td>[INTEL] 인텔 코어6세대 i3-6100 벌크 쿨러미포함 (스카이레이크/3.7G...</td>\n",
       "      <td>100,750</td>\n",
       "      <td>Core i3-6100(3.7GHz) / 듀얼코어 / 스카이레이크(Skylake) ...</td>\n",
       "    </tr>\n",
       "    <tr>\n",
       "      <th>1</th>\n",
       "      <td>[INTEL] 인텔 코어6세대 i7-6700 벌크 쿨러미포함 (스카이레이크/3.4G...</td>\n",
       "      <td>326,560</td>\n",
       "      <td>Core i7-6700(3.4GHz) / 쿼드코어 / 스카이레이크(Skylake) ...</td>\n",
       "    </tr>\n",
       "    <tr>\n",
       "      <th>2</th>\n",
       "      <td>[INTEL] 인텔 코어8세대 i3-8100 벌크 쿨러미포함 (커피레이크/3.6GH...</td>\n",
       "      <td>134,000</td>\n",
       "      <td>Core i3-8100(3.6GHz) / 쿼드코어 / 커피레이크(CoffeeLake...</td>\n",
       "    </tr>\n",
       "    <tr>\n",
       "      <th>3</th>\n",
       "      <td>[INTEL] 인텔 코어8세대 i7-8700 벌크 쿨러미포함 (커피레이크/3.2GH...</td>\n",
       "      <td>332,590</td>\n",
       "      <td>Core i7-8700(3.2GHz) / 헥사코어 / 커피레이크(CoffeeLake...</td>\n",
       "    </tr>\n",
       "    <tr>\n",
       "      <th>4</th>\n",
       "      <td>[INTEL] 인텔 코어8세대 i3-8100 벌크 쿨러포함 (커피레이크/3.6GHz...</td>\n",
       "      <td>135,950</td>\n",
       "      <td>Core i3-8100(3.6GHz) / 쿼드코어 / 커피레이크(CoffeeLake...</td>\n",
       "    </tr>\n",
       "    <tr>\n",
       "      <th>...</th>\n",
       "      <td>...</td>\n",
       "      <td>...</td>\n",
       "      <td>...</td>\n",
       "    </tr>\n",
       "    <tr>\n",
       "      <th>175</th>\n",
       "      <td>[INTEL] 인텔 코어7세대 i5-7500 벌크 쿨러미포함 (카비레이크/3.4GH...</td>\n",
       "      <td>가격정보없음</td>\n",
       "      <td>Core i5-7500(3.4GHz) / 쿼드코어 / 카비레이크(KabyLake) ...</td>\n",
       "    </tr>\n",
       "    <tr>\n",
       "      <th>176</th>\n",
       "      <td>[INTEL] 제온 E3-1270V5 정품박스 (스카이레이크/3.6GHz/8MB/쿨...</td>\n",
       "      <td>가격정보없음</td>\n",
       "      <td>E3-1270V5(3.6GHz) / 쿼드코어 / 스카이레이크(Skylake) / 1...</td>\n",
       "    </tr>\n",
       "    <tr>\n",
       "      <th>177</th>\n",
       "      <td>[INTEL] 코어8세대 i3-8100 정품박스 (커피레이크/3.6GHz/6MB/쿨...</td>\n",
       "      <td>가격정보없음</td>\n",
       "      <td>Core i3-8100(3.6GHz) / 쿼드코어 / 커피레이크(CoffeeLake...</td>\n",
       "    </tr>\n",
       "    <tr>\n",
       "      <th>178</th>\n",
       "      <td>[INTEL] 인텔 코어9세대 i3-9100 벌크 쿨러포함 (커피레이크 리프레시/3...</td>\n",
       "      <td>가격정보없음</td>\n",
       "      <td>인텔(소켓1151v2) / 14nm / 쿼드(4)코어 / 4쓰레드 / 기본 클럭: ...</td>\n",
       "    </tr>\n",
       "    <tr>\n",
       "      <th>179</th>\n",
       "      <td>[AMD] 라이젠 5 마티스 3500X (헥사코어/3.6GHz/쿨러포함/대리점정품/...</td>\n",
       "      <td>가격정보없음</td>\n",
       "      <td>AMD(소켓AM4) / 3세대 (Zen 2) / 7nm / 헥사(6)코어 / 6쓰레...</td>\n",
       "    </tr>\n",
       "  </tbody>\n",
       "</table>\n",
       "<p>180 rows × 3 columns</p>\n",
       "</div>"
      ],
      "text/plain": [
       "                                                    제목       스펙  \\\n",
       "0    [INTEL] 인텔 코어6세대 i3-6100 벌크 쿨러미포함 (스카이레이크/3.7G...  100,750   \n",
       "1    [INTEL] 인텔 코어6세대 i7-6700 벌크 쿨러미포함 (스카이레이크/3.4G...  326,560   \n",
       "2    [INTEL] 인텔 코어8세대 i3-8100 벌크 쿨러미포함 (커피레이크/3.6GH...  134,000   \n",
       "3    [INTEL] 인텔 코어8세대 i7-8700 벌크 쿨러미포함 (커피레이크/3.2GH...  332,590   \n",
       "4    [INTEL] 인텔 코어8세대 i3-8100 벌크 쿨러포함 (커피레이크/3.6GHz...  135,950   \n",
       "..                                                 ...      ...   \n",
       "175  [INTEL] 인텔 코어7세대 i5-7500 벌크 쿨러미포함 (카비레이크/3.4GH...   가격정보없음   \n",
       "176  [INTEL] 제온 E3-1270V5 정품박스 (스카이레이크/3.6GHz/8MB/쿨...   가격정보없음   \n",
       "177  [INTEL] 코어8세대 i3-8100 정품박스 (커피레이크/3.6GHz/6MB/쿨...   가격정보없음   \n",
       "178  [INTEL] 인텔 코어9세대 i3-9100 벌크 쿨러포함 (커피레이크 리프레시/3...   가격정보없음   \n",
       "179  [AMD] 라이젠 5 마티스 3500X (헥사코어/3.6GHz/쿨러포함/대리점정품/...   가격정보없음   \n",
       "\n",
       "                                                    가격  \n",
       "0    Core i3-6100(3.7GHz) / 듀얼코어 / 스카이레이크(Skylake) ...  \n",
       "1    Core i7-6700(3.4GHz) / 쿼드코어 / 스카이레이크(Skylake) ...  \n",
       "2    Core i3-8100(3.6GHz) / 쿼드코어 / 커피레이크(CoffeeLake...  \n",
       "3    Core i7-8700(3.2GHz) / 헥사코어 / 커피레이크(CoffeeLake...  \n",
       "4    Core i3-8100(3.6GHz) / 쿼드코어 / 커피레이크(CoffeeLake...  \n",
       "..                                                 ...  \n",
       "175  Core i5-7500(3.4GHz) / 쿼드코어 / 카비레이크(KabyLake) ...  \n",
       "176  E3-1270V5(3.6GHz) / 쿼드코어 / 스카이레이크(Skylake) / 1...  \n",
       "177  Core i3-8100(3.6GHz) / 쿼드코어 / 커피레이크(CoffeeLake...  \n",
       "178  인텔(소켓1151v2) / 14nm / 쿼드(4)코어 / 4쓰레드 / 기본 클럭: ...  \n",
       "179  AMD(소켓AM4) / 3세대 (Zen 2) / 7nm / 헥사(6)코어 / 6쓰레...  \n",
       "\n",
       "[180 rows x 3 columns]"
      ]
     },
     "execution_count": 85,
     "metadata": {},
     "output_type": "execute_result"
    }
   ],
   "source": [
    "cpu_data = cpu_data[cpu_data['가격'] != 0]\n",
    "cpu_data"
   ]
  },
  {
   "cell_type": "code",
   "execution_count": 11,
   "metadata": {},
   "outputs": [
    {
     "ename": "NameError",
     "evalue": "name 'cpu_data' is not defined",
     "output_type": "error",
     "traceback": [
      "\u001b[1;31m---------------------------------------------------------------------------\u001b[0m",
      "\u001b[1;31mNameError\u001b[0m                                 Traceback (most recent call last)",
      "\u001b[1;32m<ipython-input-11-9eb2ca0e15c6>\u001b[0m in \u001b[0;36m<module>\u001b[1;34m\u001b[0m\n\u001b[0;32m      1\u001b[0m \u001b[1;31m# 제조사 명 추출 & 컬럼추가\u001b[0m\u001b[1;33m\u001b[0m\u001b[1;33m\u001b[0m\u001b[1;33m\u001b[0m\u001b[0m\n\u001b[0;32m      2\u001b[0m \u001b[0mcompany\u001b[0m \u001b[1;33m=\u001b[0m \u001b[1;33m[\u001b[0m\u001b[1;33m]\u001b[0m\u001b[1;33m\u001b[0m\u001b[1;33m\u001b[0m\u001b[0m\n\u001b[1;32m----> 3\u001b[1;33m \u001b[1;32mfor\u001b[0m \u001b[0mi\u001b[0m \u001b[1;32min\u001b[0m \u001b[0mrange\u001b[0m\u001b[1;33m(\u001b[0m\u001b[0mlen\u001b[0m\u001b[1;33m(\u001b[0m\u001b[0mcpu_data\u001b[0m\u001b[1;33m[\u001b[0m\u001b[1;34m'상품'\u001b[0m\u001b[1;33m]\u001b[0m\u001b[1;33m)\u001b[0m\u001b[1;33m)\u001b[0m\u001b[1;33m:\u001b[0m\u001b[1;33m\u001b[0m\u001b[1;33m\u001b[0m\u001b[0m\n\u001b[0m\u001b[0;32m      4\u001b[0m       \u001b[0mcompany\u001b[0m\u001b[1;33m.\u001b[0m\u001b[0mappend\u001b[0m\u001b[1;33m(\u001b[0m\u001b[0mcpu_data\u001b[0m\u001b[1;33m[\u001b[0m\u001b[1;34m'상품명'\u001b[0m\u001b[1;33m]\u001b[0m\u001b[1;33m.\u001b[0m\u001b[0mstr\u001b[0m\u001b[1;33m.\u001b[0m\u001b[0msplit\u001b[0m\u001b[1;33m(\u001b[0m\u001b[1;34m']'\u001b[0m\u001b[1;33m)\u001b[0m\u001b[1;33m.\u001b[0m\u001b[0miloc\u001b[0m\u001b[1;33m[\u001b[0m\u001b[0mi\u001b[0m\u001b[1;33m]\u001b[0m\u001b[1;33m[\u001b[0m\u001b[1;36m0\u001b[0m\u001b[1;33m]\u001b[0m\u001b[1;33m[\u001b[0m\u001b[1;36m1\u001b[0m\u001b[1;33m:\u001b[0m\u001b[1;33m]\u001b[0m\u001b[1;33m)\u001b[0m\u001b[1;33m\u001b[0m\u001b[1;33m\u001b[0m\u001b[0m\n\u001b[0;32m      5\u001b[0m \u001b[0mcpu_data\u001b[0m\u001b[1;33m[\u001b[0m\u001b[1;34m'회사'\u001b[0m\u001b[1;33m]\u001b[0m \u001b[1;33m=\u001b[0m \u001b[0mcompany\u001b[0m\u001b[1;33m\u001b[0m\u001b[1;33m\u001b[0m\u001b[0m\n",
      "\u001b[1;31mNameError\u001b[0m: name 'cpu_data' is not defined"
     ]
    }
   ],
   "source": [
    "# 제조사 명 추출 & 컬럼추가\n",
    "company = []\n",
    "for i in range(len(cpu_data['상'])):\n",
    "      company.append(cpu_data['상품명'].str.split(']').iloc[i][0][1:])\n",
    "cpu_data['회사'] = company\n",
    "cpu_data.to_excel('./cpu_data.xlsx',index=False)\n",
    "# 스펙에서 회사명, nm 뽑아내기\n",
    "for i in range(len(cpu_data)):\n",
    "    for nm in cpu_data['스펙'].str.split('/').iloc[i]:\n",
    "        if 'nm' in nm:\n",
    "            print(cpu_data['회사'].iloc[i],nm)"
   ]
  },
  {
   "cell_type": "code",
   "execution_count": 54,
   "metadata": {},
   "outputs": [
    {
     "data": {
      "text/plain": [
       "127"
      ]
     },
     "execution_count": 54,
     "metadata": {},
     "output_type": "execute_result"
    }
   ],
   "source": [
    "import re\n",
    "cpu_name = []\n",
    "cpu_xlsx = pd.read_excel('./cpu_data.xlsx')\n",
    "number = re.compile(r'\\d\\d\\d\\d')\n",
    "i_product = re.compile(r'i\\d')\n",
    "for i in range(len(cpu_xlsx)):\n",
    "    for title in cpu_xlsx['상품명'].str.split(' ').iloc[i]:\n",
    "        if i_product.search(title):\n",
    "            cpu_name.append(title)\n",
    "        elif number.search(title):\n",
    "            cpu_name.append(title)\n",
    "\n",
    "cpu_name = set(cpu_name)\n",
    "len(cpu_name)"
   ]
  },
  {
   "cell_type": "code",
   "execution_count": 57,
   "metadata": {
    "scrolled": true
   },
   "outputs": [
    {
     "ename": "TypeError",
     "evalue": "string indices must be integers",
     "output_type": "error",
     "traceback": [
      "\u001b[1;31m---------------------------------------------------------------------------\u001b[0m",
      "\u001b[1;31mTypeError\u001b[0m                                 Traceback (most recent call last)",
      "\u001b[1;32m<ipython-input-57-66c2c3dde3a6>\u001b[0m in \u001b[0;36m<module>\u001b[1;34m\u001b[0m\n\u001b[0;32m      3\u001b[0m \u001b[1;32mfor\u001b[0m \u001b[0mcpu\u001b[0m \u001b[1;32min\u001b[0m \u001b[0mcpu_bench\u001b[0m\u001b[1;33m:\u001b[0m\u001b[1;33m\u001b[0m\u001b[1;33m\u001b[0m\u001b[0m\n\u001b[0;32m      4\u001b[0m     \u001b[1;32mfor\u001b[0m \u001b[0mname\u001b[0m \u001b[1;32min\u001b[0m \u001b[0mcpu_name\u001b[0m\u001b[1;33m:\u001b[0m\u001b[1;33m\u001b[0m\u001b[1;33m\u001b[0m\u001b[0m\n\u001b[1;32m----> 5\u001b[1;33m         \u001b[1;32mif\u001b[0m \u001b[0mname\u001b[0m \u001b[1;32min\u001b[0m \u001b[0mcpu\u001b[0m\u001b[1;33m[\u001b[0m\u001b[1;34m'이름'\u001b[0m\u001b[1;33m]\u001b[0m\u001b[1;33m:\u001b[0m\u001b[1;33m\u001b[0m\u001b[1;33m\u001b[0m\u001b[0m\n\u001b[0m\u001b[0;32m      6\u001b[0m             \u001b[0mprint\u001b[0m\u001b[1;33m(\u001b[0m\u001b[0mname\u001b[0m\u001b[1;33m,\u001b[0m \u001b[0mcpu_bench\u001b[0m\u001b[1;33m[\u001b[0m\u001b[1;34m'종합'\u001b[0m\u001b[1;33m]\u001b[0m\u001b[1;33m,\u001b[0m \u001b[0mcpu_bench\u001b[0m\u001b[1;33m[\u001b[0m\u001b[1;34m'쓰레드'\u001b[0m\u001b[1;33m]\u001b[0m\u001b[1;33m)\u001b[0m\u001b[1;33m\u001b[0m\u001b[1;33m\u001b[0m\u001b[0m\n",
      "\u001b[1;31mTypeError\u001b[0m: string indices must be integers"
     ]
    }
   ],
   "source": [
    "cpu_bench = pd.read_csv('./cpu_bench.csv')\n",
    "\n",
    "for cpu in cpu_bench: \n",
    "    for name in cpu_name: \n",
    "        if name in cpu['이름']: \n",
    "            print(name, cpu_bench['종합'], cpu_bench['쓰레드'])"
   ]
  },
  {
   "cell_type": "code",
   "execution_count": 147,
   "metadata": {
    "scrolled": true
   },
   "outputs": [
    {
     "data": {
      "text/html": [
       "<div>\n",
       "<style scoped>\n",
       "    .dataframe tbody tr th:only-of-type {\n",
       "        vertical-align: middle;\n",
       "    }\n",
       "\n",
       "    .dataframe tbody tr th {\n",
       "        vertical-align: top;\n",
       "    }\n",
       "\n",
       "    .dataframe thead th {\n",
       "        text-align: right;\n",
       "    }\n",
       "</style>\n",
       "<table border=\"1\" class=\"dataframe\">\n",
       "  <thead>\n",
       "    <tr style=\"text-align: right;\">\n",
       "      <th></th>\n",
       "      <th>회사</th>\n",
       "      <th>nm</th>\n",
       "    </tr>\n",
       "  </thead>\n",
       "  <tbody>\n",
       "    <tr>\n",
       "      <th>0</th>\n",
       "      <td>INTEL</td>\n",
       "      <td>14nm</td>\n",
       "    </tr>\n",
       "    <tr>\n",
       "      <th>1</th>\n",
       "      <td>INTEL</td>\n",
       "      <td>14nm</td>\n",
       "    </tr>\n",
       "    <tr>\n",
       "      <th>2</th>\n",
       "      <td>INTEL</td>\n",
       "      <td>14nm</td>\n",
       "    </tr>\n",
       "    <tr>\n",
       "      <th>3</th>\n",
       "      <td>INTEL</td>\n",
       "      <td>14nm</td>\n",
       "    </tr>\n",
       "    <tr>\n",
       "      <th>4</th>\n",
       "      <td>INTEL</td>\n",
       "      <td>14nm</td>\n",
       "    </tr>\n",
       "    <tr>\n",
       "      <th>...</th>\n",
       "      <td>...</td>\n",
       "      <td>...</td>\n",
       "    </tr>\n",
       "    <tr>\n",
       "      <th>173</th>\n",
       "      <td>INTEL</td>\n",
       "      <td>14nm</td>\n",
       "    </tr>\n",
       "    <tr>\n",
       "      <th>174</th>\n",
       "      <td>INTEL</td>\n",
       "      <td>14nm</td>\n",
       "    </tr>\n",
       "    <tr>\n",
       "      <th>175</th>\n",
       "      <td>INTEL</td>\n",
       "      <td>14nm</td>\n",
       "    </tr>\n",
       "    <tr>\n",
       "      <th>176</th>\n",
       "      <td>INTEL</td>\n",
       "      <td>14nm</td>\n",
       "    </tr>\n",
       "    <tr>\n",
       "      <th>177</th>\n",
       "      <td>AMD</td>\n",
       "      <td>7nm</td>\n",
       "    </tr>\n",
       "  </tbody>\n",
       "</table>\n",
       "<p>178 rows × 2 columns</p>\n",
       "</div>"
      ],
      "text/plain": [
       "        회사    nm\n",
       "0    INTEL  14nm\n",
       "1    INTEL  14nm\n",
       "2    INTEL  14nm\n",
       "3    INTEL  14nm\n",
       "4    INTEL  14nm\n",
       "..     ...   ...\n",
       "173  INTEL  14nm\n",
       "174  INTEL  14nm\n",
       "175  INTEL  14nm\n",
       "176  INTEL  14nm\n",
       "177    AMD   7nm\n",
       "\n",
       "[178 rows x 2 columns]"
      ]
     },
     "execution_count": 147,
     "metadata": {},
     "output_type": "execute_result"
    }
   ],
   "source": [
    "#3번 그래프 그리기 \n",
    "cpu_data = pd.read_csv('./cpudata.csv')\n",
    "temp_data = cpu_data\n",
    "nano_list = []\n",
    "company = []\n",
    "for i in range(len(temp_data['상품명'])):\n",
    "      company.append(temp_data['상품명'].str.split(']').iloc[i][0][1:])\n",
    "temp_data['회사'] = company\n",
    "temp_data.to_excel('./cpu_data.xlsx',index=False)\n",
    "# 스펙에서 회사명, nm 뽑아내기\n",
    "for i in range(len(temp_data)):\n",
    "    for nm in cpu_data['스펙'].str.split('/').iloc[i]:\n",
    "        if 'nm' in nm:\n",
    "            nano_list.append([cpu_data['회사'].iloc[i],nm.strip()])\n",
    "            \n",
    "nano = pd.DataFrame(nano_list, columns=['회사', 'nm'])\n",
    "nano"
   ]
  },
  {
   "cell_type": "code",
   "execution_count": 145,
   "metadata": {},
   "outputs": [],
   "source": [
    "nano=[]"
   ]
  },
  {
   "cell_type": "code",
   "execution_count": 295,
   "metadata": {},
   "outputs": [
    {
     "data": {
      "text/plain": [
       "<AxesSubplot:xlabel='nm', ylabel='count'>"
      ]
     },
     "execution_count": 295,
     "metadata": {},
     "output_type": "execute_result"
    },
    {
     "name": "stderr",
     "output_type": "stream",
     "text": [
      "C:\\Users\\kosmo_17\\anaconda3\\lib\\site-packages\\matplotlib\\backends\\backend_agg.py:238: RuntimeWarning: Glyph 54924 missing from current font.\n",
      "  font.set_text(s, 0.0, flags=flags)\n",
      "C:\\Users\\kosmo_17\\anaconda3\\lib\\site-packages\\matplotlib\\backends\\backend_agg.py:238: RuntimeWarning: Glyph 49324 missing from current font.\n",
      "  font.set_text(s, 0.0, flags=flags)\n",
      "C:\\Users\\kosmo_17\\anaconda3\\lib\\site-packages\\matplotlib\\backends\\backend_agg.py:201: RuntimeWarning: Glyph 54924 missing from current font.\n",
      "  font.set_text(s, 0, flags=flags)\n",
      "C:\\Users\\kosmo_17\\anaconda3\\lib\\site-packages\\matplotlib\\backends\\backend_agg.py:201: RuntimeWarning: Glyph 49324 missing from current font.\n",
      "  font.set_text(s, 0, flags=flags)\n"
     ]
    },
    {
     "data": {
      "image/png": "[encoded data removed]",
      "text/plain": [
       "<Figure size 432x288 with 1 Axes>"
      ]
     },
     "metadata": {
      "needs_background": "light"
     },
     "output_type": "display_data"
    }
   ],
   "source": [
    "import seaborn as sns                  \n",
    "import matplotlib.pyplot as plt\n",
    "\n",
    "sns.countplot(data=nano, hue='회사', x='nm')\n"
   ]
  },
  {
   "cell_type": "code",
   "execution_count": null,
   "metadata": {},
   "outputs": [],
   "source": []
  }
 ],
 "metadata": {
  "kernelspec": {
   "display_name": "Python 3",
   "language": "python",
   "name": "python3"
  },
  "language_info": {
   "codemirror_mode": {
    "name": "ipython",
    "version": 3
   },
   "file_extension": ".py",
   "mimetype": "text/x-python",
   "name": "python",
   "nbconvert_exporter": "python",
   "pygments_lexer": "ipython3",
   "version": "3.8.5"
  }
 },
 "nbformat": 4,
 "nbformat_minor": 4
}
